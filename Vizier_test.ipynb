{
 "cells": [
  {
   "cell_type": "code",
   "execution_count": null,
   "metadata": {
    "colab": {},
    "colab_type": "code",
    "id": "2-N_LWQheTU9"
   },
   "outputs": [],
   "source": [
    "from itertools import product, combinations, count, permutations\n",
    "import numpy as np\n",
    "import pandas as pd\n",
    "from astroquery.vizier import Vizier\n",
    "import matplotlib.pyplot as plt\n",
    "import astropy as ap\n",
    "import sklearn\n",
    "from sklearn.neighbors import KernelDensity as KD\n",
    "from sklearn.model_selection import GridSearchCV\n",
    "from sklearn.decomposition import PCA, KernelPCA\n",
    "import corner\n",
    "from sklearn.mixture import GaussianMixture as GM\n",
    "from sklearn.mixture import BayesianGaussianMixture as BGM\n",
    "from scipy.stats import norm\n",
    "from matplotlib.colors import LogNorm\n",
    "from astroquery.gaia import Gaia\n",
    "from scipy import stats"
   ]
  },
  {
   "cell_type": "code",
   "execution_count": null,
   "metadata": {},
   "outputs": [],
   "source": [
    "%matplotlib inline"
   ]
  },
  {
   "cell_type": "code",
   "execution_count": null,
   "metadata": {
    "colab": {},
    "colab_type": "code",
    "id": "GrGNZNGFc10n"
   },
   "outputs": [],
   "source": [
    "Vizier = Vizier(row_limit=20000)"
   ]
  },
  {
   "cell_type": "code",
   "execution_count": null,
   "metadata": {
    "colab": {},
    "colab_type": "code",
    "id": "thUK1NUldxdp"
   },
   "outputs": [],
   "source": [
    "catalog = Vizier.get_catalogs(\"J/A+A/618/A93\")\n",
    "\n",
    "clucata = catalog[1]"
   ]
  },
  {
   "cell_type": "code",
   "execution_count": null,
   "metadata": {
    "colab": {},
    "colab_type": "code",
    "id": "QOpNlLlDhGPI"
   },
   "outputs": [],
   "source": [
    "newc = clucata.group_by('Cluster')\n",
    "maxcluster = np.argmax(newc.groups.indices[1:]-newc.groups.indices[:-1])\n",
    "clusterid = maxcluster+6\n",
    "bigcluster = newc.groups[clusterid]\n",
    "print(bigcluster.colnames)\n",
    "newc.groups[clusterid]['Cluster'][0]"
   ]
  },
  {
   "cell_type": "markdown",
   "metadata": {},
   "source": [
    "Good `'Cluster'`s to choose from: Alessi\\_24, ASCC_99, Alessi\\_12"
   ]
  },
  {
   "cell_type": "code",
   "execution_count": null,
   "metadata": {},
   "outputs": [],
   "source": [
    "cutcluster = bigcluster[bigcluster['PMemb']>.8]\n",
    "cutcluster = cutcluster[~np.isnan(cutcluster[\"BP-RP\"])]\n",
    "#We should cut by lines away from main sequence\n",
    "cutcluster = cutcluster[~np.logical_and(cutcluster[\"BP-RP\"]>1.0,cutcluster[\"Gmag\"]<10.)]\n",
    "cutcluster = cutcluster[~np.logical_and(cutcluster[\"BP-RP\"]<.7, cutcluster[\"Gmag\"]>13.8)]\n",
    "plt.plot(cutcluster['RA_ICRS'],cutcluster['DE_ICRS'],'+')\n",
    "plt.title('angular coordinates of '+cutcluster['Cluster'][0])"
   ]
  },
  {
   "cell_type": "code",
   "execution_count": null,
   "metadata": {},
   "outputs": [],
   "source": [
    "query = 'SELECT source_id, phot_bp_mean_mag, phot_rp_mean_mag FROM gaiadr2.gaia_source WHERE source_id = {}'"
   ]
  },
  {
   "cell_type": "code",
   "execution_count": null,
   "metadata": {},
   "outputs": [],
   "source": [
    "newquery = query.format(' OR source_id = '.join(list(map(str, cutcluster['Source']))))\n",
    "newquery;"
   ]
  },
  {
   "cell_type": "code",
   "execution_count": null,
   "metadata": {},
   "outputs": [],
   "source": [
    "Gaia.launch_job('SELECT source_id, phot_bp_mean_mag, phot_rp_mean_mag FROM gaiadr2.gaia_source WHERE source_id = 1842846157478382720')"
   ]
  },
  {
   "cell_type": "code",
   "execution_count": null,
   "metadata": {},
   "outputs": [],
   "source": [
    "newjob = Gaia.launch_job(query=newquery)"
   ]
  },
  {
   "cell_type": "code",
   "execution_count": null,
   "metadata": {},
   "outputs": [],
   "source": [
    "results = newjob.get_results()"
   ]
  },
  {
   "cell_type": "code",
   "execution_count": null,
   "metadata": {},
   "outputs": [],
   "source": [
    "results['phot_bp_mean_mag'].info.parent_table;"
   ]
  },
  {
   "cell_type": "code",
   "execution_count": null,
   "metadata": {},
   "outputs": [],
   "source": [
    "cutcluster.add_columns([results['phot_bp_mean_mag'],results['phot_rp_mean_mag']])"
   ]
  },
  {
   "cell_type": "code",
   "execution_count": null,
   "metadata": {},
   "outputs": [],
   "source": [
    "fig = plt.figure(figsize=(20,20))\n",
    "for a,i in zip(permutations(['phot_bp_mean_mag','Gmag','phot_rp_mean_mag', 'BP-RP'], 2), count(1)):\n",
    "    print(a)\n",
    "    print(stats.linregress(cutcluster[a[0]],cutcluster[a[1]]))\n",
    "    ax = fig.add_subplot(4,3, i)\n",
    "    ax.scatter(cutcluster[a[0]],cutcluster[a[1]])\n",
    "    ax.set_xlabel(a[0])\n",
    "    ax.set_ylabel(a[1])"
   ]
  },
  {
   "cell_type": "code",
   "execution_count": null,
   "metadata": {},
   "outputs": [],
   "source": [
    "fig = plt.figure()\n",
    "ax = fig.add_subplot(111, projection='3d')\n",
    "ax.scatter3D(cutcluster['Gmag'],cutcluster['phot_bp_mean_mag'],cutcluster['phot_rp_mean_mag']);"
   ]
  },
  {
   "cell_type": "code",
   "execution_count": null,
   "metadata": {},
   "outputs": [],
   "source": [
    "plt.hist(cutcluster['PMemb'])\n",
    "plt.xlabel('PMemb')\n",
    "plt.title('cluster membership probability of '+cutcluster['Cluster'][0])"
   ]
  },
  {
   "cell_type": "code",
   "execution_count": null,
   "metadata": {},
   "outputs": [],
   "source": [
    "plt.plot(cutcluster['BP-RP'],cutcluster['Gmag'], '+')\n",
    "plt.ylim(19, 7)\n",
    "plt.xlabel('BP-RP')\n",
    "plt.ylabel('Gmag')\n",
    "plt.title('color-magnitude diagram of '+cutcluster['Cluster'][0])"
   ]
  },
  {
   "cell_type": "code",
   "execution_count": null,
   "metadata": {},
   "outputs": [],
   "source": []
  },
  {
   "cell_type": "markdown",
   "metadata": {},
   "source": [
    "PCA - diagram, inverse of variance as metric -> sqrt(thing)= transformation, apply ->PCA(test) -> KDE -> inverse transform both L and R on Kernel Widths"
   ]
  },
  {
   "cell_type": "markdown",
   "metadata": {},
   "source": [
    "LLE? -> Local linear embedding -> for non MS"
   ]
  },
  {
   "cell_type": "markdown",
   "metadata": {},
   "source": [
    "remove outliers before PCA"
   ]
  },
  {
   "cell_type": "code",
   "execution_count": null,
   "metadata": {},
   "outputs": [],
   "source": [
    "X = np.asarray(np.vstack((cutcluster['BP-RP'], cutcluster['Gmag']))).T"
   ]
  },
  {
   "cell_type": "code",
   "execution_count": null,
   "metadata": {},
   "outputs": [],
   "source": [
    "pca = PCA(n_components=2)\n",
    "X_pca = pca.fit(X)"
   ]
  },
  {
   "cell_type": "code",
   "execution_count": null,
   "metadata": {},
   "outputs": [],
   "source": [
    "X_transform = pca.transform(X)\n",
    "X_transform.shape\n",
    "plt.scatter(X_transform[:,0], X_transform[:,1])\n",
    "plt.axis(\"equal\")"
   ]
  },
  {
   "cell_type": "code",
   "execution_count": null,
   "metadata": {},
   "outputs": [],
   "source": [
    "np.sqrt(pca.singular_values_)"
   ]
  },
  {
   "cell_type": "code",
   "execution_count": null,
   "metadata": {},
   "outputs": [],
   "source": [
    "def draw_vector(v0, v1, ax=None):\n",
    "    ax = ax or plt.gca()\n",
    "    arrowprops=dict(arrowstyle='->',\n",
    "                    linewidth=2,\n",
    "                    shrinkA=0, shrinkB=0)\n",
    "    ax.annotate('', v1, v0, arrowprops=arrowprops)\n",
    "\n",
    "# plot data\n",
    "plt.scatter(X[:, 0], X[:, 1], alpha=0.2)\n",
    "for length, vector in zip(pca.explained_variance_, pca.components_):\n",
    "    v = vector * 3 * np.sqrt(length)\n",
    "    draw_vector(pca.mean_, pca.mean_ + v)\n",
    "plt.axis('equal');\n",
    "plt.ylim(18,7)\n",
    "plt.xlim(-2,4)"
   ]
  },
  {
   "cell_type": "code",
   "execution_count": null,
   "metadata": {},
   "outputs": [],
   "source": [
    "X_pca = pca.transform(X)\n",
    "#plt.scatter(X_pca[:, 0], X_pca[:, 1])\n",
    "plt.axis('equal')\n",
    "X_pca[:,0] = X_pca[:,0]/np.sqrt(pca.singular_values_[0])\n",
    "X_pca[:,1] = X_pca[:,1]/np.sqrt(pca.singular_values_[1])\n",
    "plt.scatter(X_pca[:, 0], X_pca[:, 1]);"
   ]
  },
  {
   "cell_type": "code",
   "execution_count": null,
   "metadata": {},
   "outputs": [],
   "source": [
    "# I couldn't immediately find a KDE code that enabled different bandwidth in each dimension\n",
    "# which we want because the errors in color are much greater than the errors in magnitude\n",
    "params = {'bandwidth': np.logspace(-2, 2, 200)}\n",
    "grid = GridSearchCV(KD(kernel='gaussian'), params, cv=10)\n",
    "grid.fit(X_pca)\n",
    "\n",
    "print(\"best bandwidth: {0}\".format(grid.best_estimator_.bandwidth))\n",
    "# first attempt obviously too fine a bandwidth because it allows for double stars\n",
    "# we could fix it here or say this is just what the data is and fit an HRD model that doesn't permit those\n",
    "# so now the data is the KDE evaluated on a grid\n",
    "\n",
    "xmin = -1\n",
    "xmax = +2\n",
    "ymin = -1\n",
    "ymax = +1\n",
    "xlen = 50\n",
    "ylen = 50\n",
    "\n",
    "\n",
    "kde = grid.best_estimator_.fit(X_pca)\n",
    "eval_where = np.array(list(product(np.linspace(xmin,xmax,xlen), np.linspace(ymin,ymax, ylen))))\n",
    "log_dens = kde.score_samples(eval_where)\n",
    "\n",
    "plt.imshow(np.flip(np.exp(log_dens.reshape(xlen, ylen).T), axis=0),\n",
    "           extent=[xmin, xmax, ymin, ymax])\n",
    "#plt.scatter(cutcluster['BP-RP'], cutcluster['Gmag'], marker='.', color='r', s=1)"
   ]
  },
  {
   "cell_type": "code",
   "execution_count": null,
   "metadata": {},
   "outputs": [],
   "source": [
    "a = np.linspace(xmin,xmax,xlen)*np.sqrt(pca.singular_values_[0])\n",
    "b = np.linspace(ymin,ymax,ylen)*np.sqrt(pca.singular_values_[1])\n",
    "A, B = np.meshgrid(a, b)\n",
    "print(B.shape)\n",
    "plt.contour(A, B, np.exp(log_dens.reshape(xlen,ylen).T));"
   ]
  },
  {
   "cell_type": "code",
   "execution_count": null,
   "metadata": {},
   "outputs": [],
   "source": [
    "C_grid = np.array([np.ravel(A), np.ravel(B)]).T\n",
    "E_grid = pca.inverse_transform(C_grid)[:,0].reshape(xlen, ylen)\n",
    "F_grid = pca.inverse_transform(C_grid)[:,1].reshape(xlen, ylen)"
   ]
  },
  {
   "cell_type": "code",
   "execution_count": null,
   "metadata": {},
   "outputs": [],
   "source": [
    "plt.plot(cutcluster['BP-RP'],cutcluster['Gmag'], 'r+',alpha=.4)\n",
    "plt.contour(E_grid, F_grid, np.exp(log_dens.reshape(xlen,ylen).T))\n",
    "plt.ylim(19,8)\n",
    "plt.xlabel('BP-RP')\n",
    "plt.ylabel('Gmag')\n",
    "plt.title('color-magnitude diagram of '+cutcluster['Cluster'][0])\n",
    "plt.savefig(\"cmd.png\")"
   ]
  },
  {
   "cell_type": "code",
   "execution_count": null,
   "metadata": {},
   "outputs": [],
   "source": [
    "samps = np.array([[x*np.sqrt(pca.singular_values_[0]),y*np.sqrt(pca.singular_values_[1])] for x,y in kde.sample(100)])"
   ]
  },
  {
   "cell_type": "code",
   "execution_count": null,
   "metadata": {},
   "outputs": [],
   "source": [
    "cmsamps = pca.inverse_transform(samps)"
   ]
  },
  {
   "cell_type": "code",
   "execution_count": null,
   "metadata": {},
   "outputs": [],
   "source": [
    "mags = cmsamps[:,1]\n",
    "colors = cmsamps[:,0]"
   ]
  },
  {
   "cell_type": "code",
   "execution_count": null,
   "metadata": {},
   "outputs": [],
   "source": [
    "magsum = lambda x: -5./2*np.log10(np.sum(10.**(-2./5.*x)))"
   ]
  },
  {
   "cell_type": "code",
   "execution_count": null,
   "metadata": {},
   "outputs": [],
   "source": [
    "makepairwise = lambda x: np.array(list(product(x, repeat=2)))"
   ]
  },
  {
   "cell_type": "code",
   "execution_count": null,
   "metadata": {},
   "outputs": [],
   "source": [
    "newmags = np.array(list(map(magsum, makepairwise(mags))))"
   ]
  },
  {
   "cell_type": "markdown",
   "metadata": {},
   "source": [
    "### END OF REAL WORK"
   ]
  },
  {
   "cell_type": "code",
   "execution_count": null,
   "metadata": {},
   "outputs": [],
   "source": [
    "plt.hist(X_pca[:,1], bins=20);"
   ]
  },
  {
   "cell_type": "markdown",
   "metadata": {},
   "source": [
    "plt.imshow(np.exp(pred.reshape(100, 100).T), extent=[0., 2.7, 18., 7.], aspect=0.25)"
   ]
  },
  {
   "cell_type": "code",
   "execution_count": null,
   "metadata": {},
   "outputs": [],
   "source": [
    "gmm = BGM(n_components=4, n_init=30, tol=1e-8,max_iter=2000)\n",
    "gmm.fit(X_pca[:,1].reshape(-1,1))"
   ]
  },
  {
   "cell_type": "code",
   "execution_count": null,
   "metadata": {},
   "outputs": [],
   "source": [
    "gaussians = [norm(μ, np.sqrt(σ[0])) for μ, σ in zip(gmm.means_, gmm.covariances_)]"
   ]
  },
  {
   "cell_type": "code",
   "execution_count": null,
   "metadata": {},
   "outputs": [],
   "source": [
    "X_test, label = gmm.sample(X_pca[:,1].shape[0])\n",
    "X_space = np.linspace(-1, 4, 1000)\n",
    "for gauss, weight in zip(gaussians, gmm.weights_):\n",
    "    plt.plot(X_space, gauss.pdf(X_space)*weight)\n",
    "plt.hist([X_test[:,0], X_pca[:,1]], bins=30, density=True);"
   ]
  },
  {
   "cell_type": "code",
   "execution_count": null,
   "metadata": {},
   "outputs": [],
   "source": [
    "labels = gmm.predict(X_pca[:,1].reshape(-1,1))\n",
    "scores = gmm.predict_proba(X_pca[:,1].reshape(-1,1))[:,0]"
   ]
  },
  {
   "cell_type": "code",
   "execution_count": null,
   "metadata": {},
   "outputs": [],
   "source": [
    "pca.inverse_transform([[-4,-1],[-4,1],[6,-1],[6,1]])"
   ]
  },
  {
   "cell_type": "code",
   "execution_count": null,
   "metadata": {},
   "outputs": [],
   "source": [
    "X_new = pca.inverse_transform(X_pca)\n",
    "plt.scatter(X_new[:, 0], X_new[:, 1], color='g', alpha=0.4)\n",
    "plt.imshow(np.flip(np.exp(log_dens.reshape(50, 50).T), axis=0),extent=[])\n",
    "plt.ylim(18,7)"
   ]
  },
  {
   "cell_type": "code",
   "execution_count": null,
   "metadata": {},
   "outputs": [],
   "source": [
    "corner.corner(X_transform);"
   ]
  },
  {
   "cell_type": "code",
   "execution_count": null,
   "metadata": {},
   "outputs": [],
   "source": [
    "plt.scatter(X_back[:, 0], X_back[:, 1], c=\"red\",\n",
    "            s=20, edgecolor='k')"
   ]
  },
  {
   "cell_type": "code",
   "execution_count": null,
   "metadata": {},
   "outputs": [],
   "source": [
    "cmd = np.asarray(np.vstack((cutcluster['BP-RP'], cutcluster['Gmag']))).T\n",
    "print((np.min(cutcluster['BP-RP']), np.max(cutcluster['BP-RP']), np.min(cutcluster['Gmag']), np.max(cutcluster['Gmag'])))"
   ]
  },
  {
   "cell_type": "code",
   "execution_count": null,
   "metadata": {},
   "outputs": [],
   "source": [
    "cmd.shape"
   ]
  },
  {
   "cell_type": "code",
   "execution_count": null,
   "metadata": {},
   "outputs": [],
   "source": [
    "x = np.array([np.ravel(E_grid), np.ravel(F_grid)]).T\n",
    "y = log_dens"
   ]
  },
  {
   "cell_type": "code",
   "execution_count": null,
   "metadata": {},
   "outputs": [],
   "source": []
  },
  {
   "cell_type": "code",
   "execution_count": null,
   "metadata": {},
   "outputs": [],
   "source": [
    "kernel = 5*kernels.Matern52Kernel(5., ndim=2)\n",
    "gp = george.GP(kernel, mean=np.mean(y), fit_mean=True)"
   ]
  },
  {
   "cell_type": "code",
   "execution_count": null,
   "metadata": {},
   "outputs": [],
   "source": [
    "gp.compute(x)\n",
    "\n",
    "test_x = np.array(list(product(np.linspace(0, 3, 25),np.linspace(7,18,25))))"
   ]
  },
  {
   "cell_type": "code",
   "execution_count": null,
   "metadata": {},
   "outputs": [],
   "source": [
    "pred, pred_var = gp.predict(y, test_x)"
   ]
  },
  {
   "cell_type": "code",
   "execution_count": null,
   "metadata": {},
   "outputs": [],
   "source": [
    "plt.imshow(np.flip(np.exp(pred.reshape(100, 100).T),axis=0), extent=[0., 3, 18., 7.], aspect=0.25)"
   ]
  },
  {
   "cell_type": "code",
   "execution_count": null,
   "metadata": {},
   "outputs": [],
   "source": [
    "import scipy.optimize as op\n",
    "\n",
    "# Define the objective function (negative log-likelihood in this case).\n",
    "def nll(p):\n",
    "    gp.set_parameter_vector(p)\n",
    "    ll = gp.log_likelihood(y, quiet=True)\n",
    "    return -ll if np.isfinite(ll) else 1e25\n",
    "\n",
    "# And the gradient of the objective function.\n",
    "def grad_nll(p):\n",
    "    gp.set_parameter_vector(p)\n",
    "    return -gp.grad_log_likelihood(y, quiet=True)\n",
    "\n",
    "# You need to compute the GP once before starting the optimization.\n",
    "gp.compute(x)\n",
    "\n",
    "# Print the initial ln-likelihood.\n",
    "print(gp.log_likelihood(y))\n",
    "\n",
    "# Run the optimization routine.\n",
    "p0 = gp.get_parameter_vector()\n",
    "results = op.minimize(nll, p0, jac=grad_nll, method=\"L-BFGS-B\")\n",
    "\n",
    "# Update the kernel and print the final log-likelihood.\n",
    "gp.set_parameter_vector(results.x)\n",
    "print(gp.log_likelihood(y))\n",
    "\n"
   ]
  },
  {
   "cell_type": "code",
   "execution_count": null,
   "metadata": {},
   "outputs": [],
   "source": [
    "pred, pred_var = gp.predict(y, test_x)\n",
    "\n",
    "\n",
    "plt.scatter(cutcluster['BP-RP'], cutcluster['Gmag'], marker='.', color='r', s=1)\n",
    "plt.imshow(np.exp(pred.reshape(100, 100).T), extent=[0., 3, 18., 7.], aspect=0.25)"
   ]
  },
  {
   "cell_type": "code",
   "execution_count": null,
   "metadata": {},
   "outputs": [],
   "source": []
  },
  {
   "cell_type": "code",
   "execution_count": null,
   "metadata": {},
   "outputs": [],
   "source": [
    "n_components = 5"
   ]
  },
  {
   "cell_type": "code",
   "execution_count": null,
   "metadata": {},
   "outputs": [],
   "source": [
    "gmm2 = BGM(n_components=n_components, n_init=50, tol=1e-8)\n",
    "gmm2.fit(X)\n",
    "labels2 = gmm2.predict(X);"
   ]
  },
  {
   "cell_type": "code",
   "execution_count": null,
   "metadata": {},
   "outputs": [],
   "source": [
    "ℵ = np.linspace(0., 5, 100)\n",
    "ℶ = np.linspace(8., 18., 100)\n",
    "ℷ, ℸ = np.meshgrid(ℵ, ℶ)\n",
    "ΓΓ = np.array([ℷ.ravel(), ℸ.ravel()]).T\n",
    "Ξ = -gmm2.score_samples(ΓΓ)\n",
    "Ξ = Ξ.reshape(ℷ.shape)\n",
    "\n",
    "plt.contour(ℷ, ℸ, Ξ, norm=LogNorm(vmin=1.0, vmax=1000.0),\n",
    "                 levels=np.logspace(0, 3, 10))\n",
    "for i in range(n_components):\n",
    "    plt.plot(X[:,0][labels2==i], X[:,1][labels2==i], '+')\n",
    "\n",
    "plt.ylim(19,7)\n",
    "plt.xlim(0,2)"
   ]
  },
  {
   "cell_type": "code",
   "execution_count": null,
   "metadata": {},
   "outputs": [],
   "source": [
    "X1, X2 = np.meshgrid(np.linspace(0, 5, 50), np.linspace(18, 7, 50))\n",
    "X_grid = np.array([np.ravel(X1), np.ravel(X2)]).T\n"
   ]
  },
  {
   "cell_type": "code",
   "execution_count": null,
   "metadata": {},
   "outputs": [],
   "source": [
    "sampcmd, junk̅ = gmm2.sample(300)\n",
    "plt.plot(sampcmd[:,0], sampcmd[:,1], '+')\n",
    "plt.ylim(18,7)"
   ]
  },
  {
   "cell_type": "code",
   "execution_count": null,
   "metadata": {},
   "outputs": [],
   "source": []
  }
 ],
 "metadata": {
  "colab": {
   "collapsed_sections": [],
   "name": "test-realtime",
   "provenance": [],
   "version": "0.3.2"
  },
  "kernelspec": {
   "display_name": "Python 2",
   "language": "python",
   "name": "python2"
  },
  "language_info": {
   "codemirror_mode": {
    "name": "ipython",
    "version": 2
   },
   "file_extension": ".py",
   "mimetype": "text/x-python",
   "name": "python",
   "nbconvert_exporter": "python",
   "pygments_lexer": "ipython2",
   "version": "2.7.15rc1"
  }
 },
 "nbformat": 4,
 "nbformat_minor": 1
}
