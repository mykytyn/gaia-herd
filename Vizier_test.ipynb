{
 "cells": [
  {
   "cell_type": "code",
   "execution_count": null,
   "metadata": {
    "colab": {},
    "colab_type": "code",
    "id": "2-N_LWQheTU9"
   },
   "outputs": [],
   "source": [
    "from itertools import product\n",
    "import numpy as np\n",
    "import pandas as pd\n",
    "from astroquery.vizier import Vizier\n",
    "import matplotlib.pyplot as plt\n",
    "import astropy as ap\n",
    "import george\n",
    "from george import kernels\n",
    "import pymc3 as pm\n",
    "import theano\n",
    "import theano.tensor as tt\n",
    "import sklearn\n",
    "from sklearn.neighbors import KernelDensity as KD\n",
    "from sklearn.model_selection import GridSearchCV\n",
    "from sklearn.decomposition import PCA, KernelPCA\n",
    "import corner"
   ]
  },
  {
   "cell_type": "code",
   "execution_count": null,
   "metadata": {
    "colab": {},
    "colab_type": "code",
    "id": "GrGNZNGFc10n"
   },
   "outputs": [],
   "source": [
    "Vizier = Vizier(row_limit=20000)"
   ]
  },
  {
   "cell_type": "code",
   "execution_count": null,
   "metadata": {
    "colab": {},
    "colab_type": "code",
    "id": "thUK1NUldxdp"
   },
   "outputs": [],
   "source": [
    "catalog = Vizier.get_catalogs(\"J/A+A/618/A93\")\n",
    "\n",
    "clucata = catalog[1]"
   ]
  },
  {
   "cell_type": "code",
   "execution_count": null,
   "metadata": {
    "colab": {},
    "colab_type": "code",
    "id": "QOpNlLlDhGPI"
   },
   "outputs": [],
   "source": [
    "newc = clucata.group_by('Cluster')\n",
    "\n",
    "maxcluster = np.argmax(newc.groups.indices[1:]-newc.groups.indices[:-1])\n",
    "bigcluster = newc.groups[maxcluster+6]\n",
    "print(bigcluster.colnames)\n",
    "newc.groups[maxcluster+6]['Cluster'][0]"
   ]
  },
  {
   "cell_type": "markdown",
   "metadata": {},
   "source": [
    "Good `'Cluster'`s to choose from: Alessi\\_24, ASCC_99, Alessi\\_12"
   ]
  },
  {
   "cell_type": "code",
   "execution_count": null,
   "metadata": {},
   "outputs": [],
   "source": [
    "cutcluster = bigcluster[bigcluster['PMemb']>.8]\n",
    "cutcluster = cutcluster[~np.isnan(cutcluster[\"BP-RP\"])]\n",
    "#We should cut by lines away from main sequence\n",
    "cutcluster = cutcluster[~np.logical_and(cutcluster[\"BP-RP\"]>1.0,cutcluster[\"Gmag\"]<10.)]\n",
    "cutcluster = cutcluster[~np.logical_and(cutcluster[\"BP-RP\"]<.7, cutcluster[\"Gmag\"]>13.8)]\n",
    "plt.plot(cutcluster['RA_ICRS'],cutcluster['DE_ICRS'],'+')\n",
    "plt.title('angular coordinates of '+cutcluster['Cluster'][0])"
   ]
  },
  {
   "cell_type": "code",
   "execution_count": null,
   "metadata": {},
   "outputs": [],
   "source": [
    "plt.hist(cutcluster['PMemb'])\n",
    "plt.xlabel('PMemb')\n",
    "plt.title('cluster membership probability of '+cutcluster['Cluster'][0])"
   ]
  },
  {
   "cell_type": "code",
   "execution_count": null,
   "metadata": {},
   "outputs": [],
   "source": [
    "plt.plot(cutcluster['BP-RP'],cutcluster['Gmag'], '+')\n",
    "plt.ylim(19, 7)\n",
    "plt.xlabel('BP-RP')\n",
    "plt.ylabel('Gmag')\n",
    "plt.title('color-magnitude diagram of '+cutcluster['Cluster'][0])"
   ]
  },
  {
   "cell_type": "markdown",
   "metadata": {},
   "source": [
    "PCA - diagram, inverse of variance as metric -> sqrt(thing)= transformation, apply ->PCA(test) -> KDE -> inverse transform both L and R on Kernel Widths"
   ]
  },
  {
   "cell_type": "markdown",
   "metadata": {},
   "source": [
    "LLE? -> Local linear embedding -> for non MS"
   ]
  },
  {
   "cell_type": "code",
   "execution_count": null,
   "metadata": {},
   "outputs": [],
   "source": [
    "remove outliers before PCA"
   ]
  },
  {
   "cell_type": "code",
   "execution_count": null,
   "metadata": {},
   "outputs": [],
   "source": [
    "X = np.asarray(np.vstack((cutcluster['BP-RP'], cutcluster['Gmag']))).T"
   ]
  },
  {
   "cell_type": "code",
   "execution_count": null,
   "metadata": {},
   "outputs": [],
   "source": [
    "kpca = KernelPCA(kernel=\"linear\", n_components=5, fit_inverse_transform=True, gamma=10)"
   ]
  },
  {
   "cell_type": "code",
   "execution_count": null,
   "metadata": {},
   "outputs": [],
   "source": [
    "X_kpca = kpca.fit_transform(X)\n",
    "X_back = kpca.inverse_transform(X_kpca)\n",
    "pca = PCA()\n",
    "X_pca = pca.fit_transform(X)"
   ]
  },
  {
   "cell_type": "code",
   "execution_count": null,
   "metadata": {},
   "outputs": [],
   "source": [
    "print(X_kpca.shape)\n",
    "print(X_back.shape)\n",
    "print(X_pca.shape)"
   ]
  },
  {
   "cell_type": "code",
   "execution_count": null,
   "metadata": {
    "scrolled": true
   },
   "outputs": [],
   "source": [
    "X1, X2 = np.meshgrid(np.linspace(0, 3, 50), np.linspace(18, 7, 50))\n",
    "X_grid = np.array([np.ravel(X1), np.ravel(X2)]).T\n",
    "X_transform = kpca.transform(X)\n",
    "Z_grid = kpca.transform(X_grid)[:, 0].reshape(X1.shape)\n",
    "plt.contour(X1, X2, Z_grid);"
   ]
  },
  {
   "cell_type": "code",
   "execution_count": null,
   "metadata": {},
   "outputs": [],
   "source": [
    "X_transform = kpca.transform(X)\n",
    "X_transform.shape\n",
    "plt.scatter(X_transform[:,0], X_transform[:,1])"
   ]
  },
  {
   "cell_type": "code",
   "execution_count": null,
   "metadata": {},
   "outputs": [],
   "source": [
    "v̂ = kpca.alphas_\n",
    "plt.scatter(v̂[:,0],v̂[:,1])"
   ]
  },
  {
   "cell_type": "code",
   "execution_count": null,
   "metadata": {},
   "outputs": [],
   "source": [
    "plt.hist(kpca.alphas_[:,1])"
   ]
  },
  {
   "cell_type": "code",
   "execution_count": null,
   "metadata": {},
   "outputs": [],
   "source": [
    "corner.corner(X_transform);"
   ]
  },
  {
   "cell_type": "code",
   "execution_count": null,
   "metadata": {},
   "outputs": [],
   "source": [
    "plt.scatter(X_back[:, 0], X_back[:, 1], c=\"red\",\n",
    "            s=20, edgecolor='k')"
   ]
  },
  {
   "cell_type": "code",
   "execution_count": null,
   "metadata": {},
   "outputs": [],
   "source": [
    "cmd = np.asarray(np.vstack((cutcluster['BP-RP'], cutcluster['Gmag']))).T\n",
    "print((np.min(cutcluster['BP-RP']), np.max(cutcluster['BP-RP']), np.min(cutcluster['Gmag']), np.max(cutcluster['Gmag'])))"
   ]
  },
  {
   "cell_type": "code",
   "execution_count": null,
   "metadata": {},
   "outputs": [],
   "source": [
    "corner.corner(cmd)"
   ]
  },
  {
   "cell_type": "code",
   "execution_count": null,
   "metadata": {},
   "outputs": [],
   "source": [
    "# I couldn't immediately find a KDE code that enabled different bandwidth in each dimension\n",
    "# which we want because the errors in color are much greater than the errors in magnitude\n",
    "params = {'bandwidth': np.logspace(-2, 0, 200)}\n",
    "grid = GridSearchCV(KD(kernel='exponential'), params, cv=5)\n",
    "grid.fit(cmd)\n",
    "\n",
    "print(\"best bandwidth: {0}\".format(grid.best_estimator_.bandwidth))\n",
    "# first attempt obviously too fine a bandwidth because it allows for double stars\n",
    "# we could fix it here or say this is just what the data is and fit an HRD model that doesn't permit those\n",
    "# so now the data is the KDE evaluated on a grid\n",
    "\n",
    "kde = grid.best_estimator_.fit(cmd)\n",
    "eval_where = np.array(list(product(np.linspace(0., 2.7, 50), np.linspace(18., 7., 50))))\n",
    "log_dens = kde.score_samples(eval_where)\n",
    "\n",
    "plt.imshow(np.flip(np.exp(log_dens.reshape(50, 50).T), axis=0), extent=[0., 2.7, 18., 7.], aspect=0.25)\n",
    "plt.scatter(cutcluster['BP-RP'], cutcluster['Gmag'], marker='.', color='r', s=1)"
   ]
  },
  {
   "cell_type": "code",
   "execution_count": null,
   "metadata": {},
   "outputs": [],
   "source": [
    "x = eval_where\n",
    "y = log_dens\n",
    "y.shape\n",
    "x.shape"
   ]
  },
  {
   "cell_type": "code",
   "execution_count": null,
   "metadata": {},
   "outputs": [],
   "source": [
    "kernel = 5*kernels.Matern52Kernel(5., ndim=2)\n",
    "gp = george.GP(kernel, mean=np.mean(y), fit_mean=True)"
   ]
  },
  {
   "cell_type": "code",
   "execution_count": null,
   "metadata": {},
   "outputs": [],
   "source": [
    "gp.compute(x)\n",
    "\n",
    "test_x = np.array(list(product(np.linspace(0, 3, 100),np.linspace(7,18,100))))"
   ]
  },
  {
   "cell_type": "code",
   "execution_count": null,
   "metadata": {},
   "outputs": [],
   "source": [
    "pred, pred_var = gp.predict(y, test_x)"
   ]
  },
  {
   "cell_type": "code",
   "execution_count": null,
   "metadata": {},
   "outputs": [],
   "source": [
    "plt.imshow(np.exp(pred.reshape(100, 100).T), extent=[0., 3, 18., 7.], aspect=0.25)"
   ]
  },
  {
   "cell_type": "code",
   "execution_count": null,
   "metadata": {},
   "outputs": [],
   "source": [
    "import scipy.optimize as op\n",
    "\n",
    "# Define the objective function (negative log-likelihood in this case).\n",
    "def nll(p):\n",
    "    gp.set_parameter_vector(p)\n",
    "    ll = gp.log_likelihood(y, quiet=True)\n",
    "    return -ll if np.isfinite(ll) else 1e25\n",
    "\n",
    "# And the gradient of the objective function.\n",
    "def grad_nll(p):\n",
    "    gp.set_parameter_vector(p)\n",
    "    return -gp.grad_log_likelihood(y, quiet=True)\n",
    "\n",
    "# You need to compute the GP once before starting the optimization.\n",
    "gp.compute(x)\n",
    "\n",
    "# Print the initial ln-likelihood.\n",
    "print(gp.log_likelihood(y))\n",
    "\n",
    "# Run the optimization routine.\n",
    "p0 = gp.get_parameter_vector()\n",
    "results = op.minimize(nll, p0, jac=grad_nll, method=\"L-BFGS-B\")\n",
    "\n",
    "# Update the kernel and print the final log-likelihood.\n",
    "gp.set_parameter_vector(results.x)\n",
    "print(gp.log_likelihood(y))\n",
    "\n"
   ]
  },
  {
   "cell_type": "code",
   "execution_count": null,
   "metadata": {},
   "outputs": [],
   "source": [
    "pred, pred_var = gp.predict(y, test_x)\n",
    "\n",
    "\n",
    "plt.scatter(cutcluster['BP-RP'], cutcluster['Gmag'], marker='.', color='r', s=1)\n",
    "plt.imshow(np.exp(pred.reshape(100, 100).T), extent=[0., 3, 18., 7.], aspect=0.25)"
   ]
  },
  {
   "cell_type": "code",
   "execution_count": null,
   "metadata": {},
   "outputs": [],
   "source": []
  }
 ],
 "metadata": {
  "colab": {
   "collapsed_sections": [],
   "name": "test-realtime",
   "provenance": [],
   "version": "0.3.2"
  },
  "kernelspec": {
   "display_name": "Python 3",
   "language": "python",
   "name": "python3"
  },
  "language_info": {
   "codemirror_mode": {
    "name": "ipython",
    "version": 3
   },
   "file_extension": ".py",
   "mimetype": "text/x-python",
   "name": "python",
   "nbconvert_exporter": "python",
   "pygments_lexer": "ipython3",
   "version": "3.6.5"
  }
 },
 "nbformat": 4,
 "nbformat_minor": 1
}
