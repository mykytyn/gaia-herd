{
 "cells": [
  {
   "cell_type": "code",
   "execution_count": null,
   "metadata": {
    "colab": {},
    "colab_type": "code",
    "id": "2-N_LWQheTU9"
   },
   "outputs": [],
   "source": [
    "from itertools import product, combinations, count, permutations, starmap, chain, repeat\n",
    "import numpy as np\n",
    "import pandas as pd\n",
    "from astroquery.vizier import Vizier\n",
    "import matplotlib.pyplot as plt\n",
    "import astropy as ap\n",
    "import sklearn\n",
    "from sklearn.neighbors import KernelDensity as KD\n",
    "from sklearn.model_selection import GridSearchCV\n",
    "from sklearn.decomposition import PCA, KernelPCA\n",
    "import corner\n",
    "from sklearn.mixture import GaussianMixture as GM\n",
    "from sklearn.mixture import BayesianGaussianMixture as BGM\n",
    "from scipy.stats import norm\n",
    "from matplotlib.colors import LogNorm\n",
    "from astroquery.gaia import Gaia\n",
    "from scipy import stats"
   ]
  },
  {
   "cell_type": "code",
   "execution_count": null,
   "metadata": {},
   "outputs": [],
   "source": [
    "%matplotlib inline"
   ]
  },
  {
   "cell_type": "code",
   "execution_count": null,
   "metadata": {
    "colab": {},
    "colab_type": "code",
    "id": "GrGNZNGFc10n"
   },
   "outputs": [],
   "source": [
    "Vizier = Vizier(row_limit=20000)"
   ]
  },
  {
   "cell_type": "code",
   "execution_count": null,
   "metadata": {
    "colab": {},
    "colab_type": "code",
    "id": "thUK1NUldxdp"
   },
   "outputs": [],
   "source": [
    "catalog = Vizier.get_catalogs(\"J/A+A/618/A93\")\n",
    "\n",
    "clucata = catalog[1]"
   ]
  },
  {
   "cell_type": "code",
   "execution_count": null,
   "metadata": {
    "colab": {},
    "colab_type": "code",
    "id": "QOpNlLlDhGPI"
   },
   "outputs": [],
   "source": [
    "newc = clucata.group_by('Cluster')\n",
    "maxcluster = np.argmax(newc.groups.indices[1:]-newc.groups.indices[:-1])\n",
    "clusterid = maxcluster+6\n",
    "bigcluster = newc.groups[clusterid]\n",
    "print(bigcluster.colnames)\n",
    "newc.groups[clusterid]['Cluster'][0]"
   ]
  },
  {
   "cell_type": "markdown",
   "metadata": {},
   "source": [
    "Good `'Cluster'`s to choose from: Alessi\\_24, ASCC_99, Alessi\\_12"
   ]
  },
  {
   "cell_type": "code",
   "execution_count": null,
   "metadata": {},
   "outputs": [],
   "source": [
    "cutcluster = bigcluster[bigcluster['PMemb']>.8]\n",
    "cutcluster = cutcluster[~np.isnan(cutcluster[\"BP-RP\"])]\n",
    "#We should cut by lines away from main sequence\n",
    "cutcluster = cutcluster[~np.logical_and(cutcluster[\"BP-RP\"]>1.0,cutcluster['Gmag']<10.)]\n",
    "cutcluster = cutcluster[~np.logical_and(cutcluster[\"BP-RP\"]<.7, cutcluster['Gmag']>13.8)]\n",
    "plt.plot(cutcluster['RA_ICRS'],cutcluster['DE_ICRS'],'+')\n",
    "plt.title('angular coordinates of '+cutcluster['Cluster'][0])"
   ]
  },
  {
   "cell_type": "code",
   "execution_count": null,
   "metadata": {},
   "outputs": [],
   "source": [
    "query = 'SELECT source_id, phot_bp_mean_mag, phot_rp_mean_mag FROM gaiadr2.gaia_source WHERE source_id = {}'"
   ]
  },
  {
   "cell_type": "code",
   "execution_count": null,
   "metadata": {},
   "outputs": [],
   "source": [
    "newquery = query.format(' OR source_id = '.join(list(map(str, cutcluster['Source']))))\n",
    "newquery;"
   ]
  },
  {
   "cell_type": "code",
   "execution_count": null,
   "metadata": {},
   "outputs": [],
   "source": [
    "Gaia.launch_job('SELECT source_id, phot_bp_mean_mag, phot_rp_mean_mag FROM gaiadr2.gaia_source WHERE source_id = 1842846157478382720')"
   ]
  },
  {
   "cell_type": "code",
   "execution_count": null,
   "metadata": {},
   "outputs": [],
   "source": [
    "newjob = Gaia.launch_job(query=newquery)"
   ]
  },
  {
   "cell_type": "code",
   "execution_count": null,
   "metadata": {},
   "outputs": [],
   "source": [
    "results = newjob.get_results()"
   ]
  },
  {
   "cell_type": "code",
   "execution_count": null,
   "metadata": {},
   "outputs": [],
   "source": [
    "results['phot_bp_mean_mag'].info.parent_table;"
   ]
  },
  {
   "cell_type": "code",
   "execution_count": null,
   "metadata": {},
   "outputs": [],
   "source": [
    "cutcluster.add_columns([results['phot_bp_mean_mag'],results['phot_rp_mean_mag']])"
   ]
  },
  {
   "cell_type": "code",
   "execution_count": null,
   "metadata": {},
   "outputs": [],
   "source": [
    "the_color = 'BP-RP'\n",
    "the_mag = 'phot_rp_mean_mag'"
   ]
  },
  {
   "cell_type": "code",
   "execution_count": null,
   "metadata": {},
   "outputs": [],
   "source": [
    "plt.hist(cutcluster['PMemb'])\n",
    "plt.xlabel('PMemb')\n",
    "plt.title('cluster membership probability of '+cutcluster['Cluster'][0])"
   ]
  },
  {
   "cell_type": "code",
   "execution_count": null,
   "metadata": {},
   "outputs": [],
   "source": [
    "plt.plot(cutcluster[the_color],cutcluster[the_mag], '+')\n",
    "plt.ylim(19, 7)\n",
    "plt.xlabel('color')\n",
    "plt.ylabel('magnitude')\n",
    "plt.title('color-magnitude diagram of '+cutcluster['Cluster'][0])"
   ]
  },
  {
   "cell_type": "code",
   "execution_count": null,
   "metadata": {},
   "outputs": [],
   "source": []
  },
  {
   "cell_type": "markdown",
   "metadata": {},
   "source": [
    "PCA - diagram, inverse of variance as metric -> sqrt(thing)= transformation, apply ->PCA(test) -> KDE -> inverse transform both L and R on Kernel Widths"
   ]
  },
  {
   "cell_type": "markdown",
   "metadata": {},
   "source": [
    "LLE? -> Local linear embedding -> for non MS"
   ]
  },
  {
   "cell_type": "markdown",
   "metadata": {},
   "source": [
    "remove outliers before PCA"
   ]
  },
  {
   "cell_type": "code",
   "execution_count": null,
   "metadata": {},
   "outputs": [],
   "source": [
    "X = np.asarray(np.vstack((cutcluster[the_color], cutcluster[the_mag]))).T"
   ]
  },
  {
   "cell_type": "code",
   "execution_count": null,
   "metadata": {},
   "outputs": [],
   "source": [
    "pca = PCA(n_components=2)\n",
    "X_pca = pca.fit(X)"
   ]
  },
  {
   "cell_type": "code",
   "execution_count": null,
   "metadata": {},
   "outputs": [],
   "source": [
    "X_transform = pca.transform(X)\n",
    "X_transform.shape\n",
    "plt.scatter(X_transform[:,0], X_transform[:,1])\n",
    "plt.axis(\"equal\")"
   ]
  },
  {
   "cell_type": "code",
   "execution_count": null,
   "metadata": {},
   "outputs": [],
   "source": [
    "np.sqrt(pca.singular_values_)"
   ]
  },
  {
   "cell_type": "code",
   "execution_count": null,
   "metadata": {},
   "outputs": [],
   "source": [
    "def draw_vector(v0, v1, ax=None):\n",
    "    ax = ax or plt.gca()\n",
    "    arrowprops=dict(arrowstyle='->',\n",
    "                    linewidth=2,\n",
    "                    shrinkA=0, shrinkB=0)\n",
    "    ax.annotate('', v1, v0, arrowprops=arrowprops)\n",
    "\n",
    "# plot data\n",
    "plt.scatter(X[:, 0], X[:, 1], alpha=0.2)\n",
    "for length, vector in zip(pca.explained_variance_, pca.components_):\n",
    "    v = vector * 3 * np.sqrt(length)\n",
    "    draw_vector(pca.mean_, pca.mean_ + v)\n",
    "plt.axis('equal');\n",
    "plt.ylim(18,7)\n",
    "plt.xlim(-2,4)"
   ]
  },
  {
   "cell_type": "code",
   "execution_count": null,
   "metadata": {},
   "outputs": [],
   "source": [
    "X_pca = pca.transform(X)\n",
    "#plt.scatter(X_pca[:, 0], X_pca[:, 1])\n",
    "plt.axis('equal')\n",
    "X_pca[:,0] = X_pca[:,0]/np.sqrt(pca.singular_values_[0])\n",
    "X_pca[:,1] = X_pca[:,1]/np.sqrt(pca.singular_values_[1])\n",
    "plt.scatter(X_pca[:, 0], X_pca[:, 1]);"
   ]
  },
  {
   "cell_type": "code",
   "execution_count": null,
   "metadata": {},
   "outputs": [],
   "source": [
    "# I couldn't immediately find a KDE code that enabled different bandwidth in each dimension\n",
    "# which we want because the errors in color are much greater than the errors in magnitude\n",
    "params = {'bandwidth': np.logspace(-2, 2, 200)}\n",
    "grid = GridSearchCV(KD(kernel='gaussian'), params, cv=10)\n",
    "grid.fit(X_pca)\n",
    "\n",
    "print(\"best bandwidth: {0}\".format(grid.best_estimator_.bandwidth))\n",
    "# first attempt obviously too fine a bandwidth because it allows for double stars\n",
    "# we could fix it here or say this is just what the data is and fit an HRD model that doesn't permit those\n",
    "# so now the data is the KDE evaluated on a grid\n",
    "\n",
    "xmin = -1\n",
    "xmax = +2\n",
    "ymin = -1\n",
    "ymax = +1\n",
    "xlen = 50\n",
    "ylen = 50\n",
    "\n",
    "\n",
    "kde = grid.best_estimator_.fit(X_pca)\n",
    "eval_where = np.array(list(product(np.linspace(xmin,xmax,xlen), np.linspace(ymin,ymax, ylen))))\n",
    "log_dens = kde.score_samples(eval_where)\n",
    "\n",
    "plt.imshow(np.flip(np.exp(log_dens.reshape(xlen, ylen).T), axis=0),\n",
    "           extent=[xmin, xmax, ymin, ymax])\n",
    "#plt.scatter(cutcluster['BP-RP'], cutcluster[the_mag], marker='.', color='r', s=1)"
   ]
  },
  {
   "cell_type": "code",
   "execution_count": null,
   "metadata": {},
   "outputs": [],
   "source": [
    "a = np.linspace(xmin,xmax,xlen)*np.sqrt(pca.singular_values_[0])\n",
    "b = np.linspace(ymin,ymax,ylen)*np.sqrt(pca.singular_values_[1])\n",
    "A, B = np.meshgrid(a, b)\n",
    "print(B.shape)\n",
    "plt.contour(A, B, np.exp(log_dens.reshape(xlen,ylen).T));"
   ]
  },
  {
   "cell_type": "code",
   "execution_count": null,
   "metadata": {},
   "outputs": [],
   "source": [
    "C_grid = np.array([np.ravel(A), np.ravel(B)]).T\n",
    "E_grid = pca.inverse_transform(C_grid)[:,0].reshape(xlen, ylen)\n",
    "F_grid = pca.inverse_transform(C_grid)[:,1].reshape(xlen, ylen)"
   ]
  },
  {
   "cell_type": "code",
   "execution_count": null,
   "metadata": {},
   "outputs": [],
   "source": [
    "plt.plot(cutcluster[the_color],cutcluster[the_mag], 'r+',alpha=.4)\n",
    "plt.contour(E_grid, F_grid, np.exp(log_dens.reshape(xlen,ylen).T))\n",
    "plt.ylim(19,8)\n",
    "plt.xlabel(the_color)\n",
    "plt.ylabel(the_mag)\n",
    "plt.title('color-magnitude diagram of '+cutcluster['Cluster'][0])\n",
    "plt.savefig(\"cmd.png\")"
   ]
  },
  {
   "cell_type": "code",
   "execution_count": null,
   "metadata": {},
   "outputs": [],
   "source": [
    "samps = np.array([[x*np.sqrt(pca.singular_values_[0]),y*np.sqrt(pca.singular_values_[1])] for x,y in kde.sample(100)])"
   ]
  },
  {
   "cell_type": "code",
   "execution_count": null,
   "metadata": {},
   "outputs": [],
   "source": [
    "cmsamps = pca.inverse_transform(samps)"
   ]
  },
  {
   "cell_type": "code",
   "execution_count": null,
   "metadata": {},
   "outputs": [],
   "source": [
    "mags = cmsamps[:,1]\n",
    "colors = cmsamps[:,0]"
   ]
  },
  {
   "cell_type": "code",
   "execution_count": null,
   "metadata": {},
   "outputs": [],
   "source": []
  },
  {
   "cell_type": "code",
   "execution_count": null,
   "metadata": {},
   "outputs": [],
   "source": [
    "toflux = lambda m: 10.**(-2/5.*m)\n",
    "tomag = lambda ϕ: -5./2*np.log10(ϕ)"
   ]
  },
  {
   "cell_type": "code",
   "execution_count": null,
   "metadata": {},
   "outputs": [],
   "source": [
    "tomag(toflux(10))"
   ]
  },
  {
   "cell_type": "code",
   "execution_count": null,
   "metadata": {},
   "outputs": [],
   "source": [
    "magsum = lambda s: tomag(np.sum(list(map(toflux,s[0]))))\n",
    "colorsum = lambda s: tomag(np.sum(list(map(toflux,s[0]+s[1]))))-magsum(s)"
   ]
  },
  {
   "cell_type": "code",
   "execution_count": null,
   "metadata": {},
   "outputs": [],
   "source": [
    "makepairwise = lambda x,y: np.swapaxes(np.array(list(combinations(zip(x,y), 2))), -1, -2)\n",
    "# makepairwise_helper = lambda x,y: np.array(np.meshgrid(x,y)).reshape(2, len(x)*len(y)).T\n",
    "# makepairwise = lambda x,y: np.hstack((makepairwise_helper(x, y), makepairwise_helper(x, y)))\n",
    "#makepairwise = lambda x,y: np.meshgrid(((x,y), (x,y)))"
   ]
  },
  {
   "cell_type": "code",
   "execution_count": null,
   "metadata": {},
   "outputs": [],
   "source": [
    "newmags = np.array(list(map(magsum, makepairwise(mags,colors))))\n",
    "newcolors = np.array(list(map(colorsum, makepairwise(mags,colors))))"
   ]
  },
  {
   "cell_type": "code",
   "execution_count": null,
   "metadata": {},
   "outputs": [],
   "source": [
    "plt.scatter(newcolors, newmags)"
   ]
  },
  {
   "cell_type": "markdown",
   "metadata": {},
   "source": [
    "### END OF REAL WORK"
   ]
  },
  {
   "cell_type": "code",
   "execution_count": null,
   "metadata": {},
   "outputs": [],
   "source": []
  }
 ],
 "metadata": {
  "colab": {
   "collapsed_sections": [],
   "name": "test-realtime",
   "provenance": [],
   "version": "0.3.2"
  },
  "kernelspec": {
   "display_name": "justice (Python 3)",
   "language": "python",
   "name": "justice_3"
  },
  "language_info": {
   "codemirror_mode": {
    "name": "ipython",
    "version": 3
   },
   "file_extension": ".py",
   "mimetype": "text/x-python",
   "name": "python",
   "nbconvert_exporter": "python",
   "pygments_lexer": "ipython3",
   "version": "3.6.5"
  }
 },
 "nbformat": 4,
 "nbformat_minor": 1
}
