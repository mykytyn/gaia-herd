{
 "cells": [
  {
   "cell_type": "code",
   "execution_count": null,
   "metadata": {
    "colab": {},
    "colab_type": "code",
    "id": "2-N_LWQheTU9"
   },
   "outputs": [],
   "source": [
    "import numpy as np\n",
    "import pandas as pd\n",
    "from astroquery.vizier import Vizier\n",
    "import matplotlib.pyplot as plt\n",
    "import astropy as ap\n",
    "import george\n",
    "from george import kernels"
   ]
  },
  {
   "cell_type": "code",
   "execution_count": null,
   "metadata": {
    "colab": {},
    "colab_type": "code",
    "id": "GrGNZNGFc10n"
   },
   "outputs": [],
   "source": [
    "Vizier = Vizier(row_limit=20000)"
   ]
  },
  {
   "cell_type": "code",
   "execution_count": null,
   "metadata": {
    "colab": {},
    "colab_type": "code",
    "id": "thUK1NUldxdp"
   },
   "outputs": [],
   "source": [
    "catalog = Vizier.get_catalogs(\"J/A+A/618/A93\")\n",
    "clucata = catalog[1]"
   ]
  },
  {
   "cell_type": "code",
   "execution_count": null,
   "metadata": {
    "colab": {},
    "colab_type": "code",
    "id": "QOpNlLlDhGPI"
   },
   "outputs": [],
   "source": [
    "newc = clucata.group_by('Cluster')\n",
    "\n",
    "maxcluster = np.argmax(newc.groups.indices[1:]-newc.groups.indices[:-1])\n",
    "bigcluster = newc.groups[maxcluster+3]\n",
    "print(bigcluster.colnames)\n",
    "newc.groups[maxcluster+3]"
   ]
  },
  {
   "cell_type": "markdown",
   "metadata": {},
   "source": [
    "ASCC_99"
   ]
  },
  {
   "cell_type": "code",
   "execution_count": null,
   "metadata": {},
   "outputs": [],
   "source": [
    "cutcluster = bigcluster[bigcluster['PMemb']>.6]\n",
    "cutcluster = cutcluster[~np.isnan(cutcluster[\"BP-RP\"])]\n",
    "plt.plot(cutcluster['RA_ICRS'],cutcluster['DE_ICRS'],'+')"
   ]
  },
  {
   "cell_type": "code",
   "execution_count": null,
   "metadata": {},
   "outputs": [],
   "source": [
    "plt.plot(cutcluster['BP-RP'],cutcluster['Gmag'], '+')\n",
    "plt.ylim(19, 7)"
   ]
  },
  {
   "cell_type": "code",
   "execution_count": null,
   "metadata": {},
   "outputs": [],
   "source": [
    "plt.hist(cutcluster['PMemb'])"
   ]
  },
  {
   "cell_type": "code",
   "execution_count": null,
   "metadata": {},
   "outputs": [],
   "source": [
    "kernel = kernels.ExpSquaredKernel(.5)\n",
    "gp = george.GP(kernel)\n",
    "\n",
    "np.all(np.isreal(np.array(cutcluster[\"BP-RP\"])))"
   ]
  },
  {
   "cell_type": "code",
   "execution_count": null,
   "metadata": {},
   "outputs": [],
   "source": [
    "yerr = np.ones_like(cutcluster[\"Gmag\"])*.5"
   ]
  },
  {
   "cell_type": "code",
   "execution_count": null,
   "metadata": {},
   "outputs": [],
   "source": [
    "gp.compute(np.array(cutcluster[\"BP-RP\"]), yerr)"
   ]
  },
  {
   "cell_type": "code",
   "execution_count": null,
   "metadata": {},
   "outputs": [],
   "source": [
    "x_pred = np.linspace(0,3,100)"
   ]
  },
  {
   "cell_type": "code",
   "execution_count": null,
   "metadata": {},
   "outputs": [],
   "source": [
    "pred, pred_var = gp.predict(cutcluster['Gmag'], x_pred, return_var=True)"
   ]
  },
  {
   "cell_type": "code",
   "execution_count": null,
   "metadata": {},
   "outputs": [],
   "source": [
    "\n",
    "plt.fill_between(x_pred, pred - np.sqrt(pred_var), pred + np.sqrt(pred_var),\n",
    "                color=\"k\", alpha=0.2)\n",
    "plt.plot(x_pred, pred, \"k\", lw=1.5, alpha=0.5)\n",
    "plt.errorbar(cutcluster['BP-RP'], cutcluster['Gmag'], yerr=yerr, fmt=\".k\", capsize=0)\n",
    "plt.ylim(18,7)"
   ]
  },
  {
   "cell_type": "code",
   "execution_count": null,
   "metadata": {},
   "outputs": [],
   "source": []
  }
 ],
 "metadata": {
  "colab": {
   "collapsed_sections": [],
   "name": "test-realtime",
   "provenance": [],
   "version": "0.3.2"
  },
  "kernelspec": {
   "display_name": "Python 3",
   "language": "python",
   "name": "python3"
  },
  "language_info": {
   "codemirror_mode": {
    "name": "ipython",
    "version": 3
   },
   "file_extension": ".py",
   "mimetype": "text/x-python",
   "name": "python",
   "nbconvert_exporter": "python",
   "pygments_lexer": "ipython3",
   "version": "3.6.5"
  }
 },
 "nbformat": 4,
 "nbformat_minor": 1
}
