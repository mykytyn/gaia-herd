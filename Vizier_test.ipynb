{
 "cells": [
  {
   "cell_type": "markdown",
   "metadata": {},
   "source": [
    "David Mykytyn and Alex Malz\n",
    "\n",
    "Goals and scope: "
   ]
  },
  {
   "cell_type": "code",
   "execution_count": null,
   "metadata": {
    "colab": {},
    "colab_type": "code",
    "id": "2-N_LWQheTU9"
   },
   "outputs": [],
   "source": [
    "from itertools import product, combinations, count, permutations, starmap, chain, repeat\n",
    "import numpy as np\n",
    "import pandas as pd\n",
    "from astroquery.vizier import Vizier\n",
    "import matplotlib.pyplot as plt\n",
    "import astropy as ap\n",
    "import sklearn\n",
    "from sklearn.neighbors import KernelDensity as KD\n",
    "from sklearn.model_selection import GridSearchCV\n",
    "from sklearn.decomposition import PCA, KernelPCA\n",
    "import corner\n",
    "from sklearn.mixture import GaussianMixture as GM\n",
    "from sklearn.mixture import BayesianGaussianMixture as BGM\n",
    "from sklearn.pipeline import Pipeline\n",
    "from scipy.stats import norm\n",
    "from matplotlib.colors import LogNorm\n",
    "from astroquery.gaia import Gaia\n",
    "from scipy import stats\n",
    "import seaborn as sns"
   ]
  },
  {
   "cell_type": "code",
   "execution_count": null,
   "metadata": {},
   "outputs": [],
   "source": [
    "%matplotlib inline"
   ]
  },
  {
   "cell_type": "code",
   "execution_count": null,
   "metadata": {
    "colab": {},
    "colab_type": "code",
    "id": "GrGNZNGFc10n"
   },
   "outputs": [],
   "source": [
    "Vizier = Vizier(row_limit=20000)"
   ]
  },
  {
   "cell_type": "code",
   "execution_count": null,
   "metadata": {
    "colab": {},
    "colab_type": "code",
    "id": "thUK1NUldxdp"
   },
   "outputs": [],
   "source": [
    "catalog = Vizier.get_catalogs(\"J/A+A/618/A93\")\n",
    "\n",
    "clucata = catalog[1]"
   ]
  },
  {
   "cell_type": "code",
   "execution_count": null,
   "metadata": {
    "colab": {},
    "colab_type": "code",
    "id": "QOpNlLlDhGPI"
   },
   "outputs": [],
   "source": [
    "newc = clucata.group_by('Cluster')\n",
    "maxcluster = np.argmax(newc.groups.indices[1:]-newc.groups.indices[:-1])\n",
    "clusterid = maxcluster+6\n",
    "bigcluster = newc.groups[clusterid]\n",
    "print(bigcluster.colnames)\n",
    "newc.groups[clusterid]['Cluster'][0]"
   ]
  },
  {
   "cell_type": "markdown",
   "metadata": {},
   "source": [
    "Good `'Cluster'`s to choose from: Alessi\\_24, ASCC_99, Alessi\\_12"
   ]
  },
  {
   "cell_type": "code",
   "execution_count": null,
   "metadata": {},
   "outputs": [],
   "source": [
    "cutcluster = bigcluster[bigcluster['PMemb']>.8]\n",
    "cutcluster = cutcluster[~np.isnan(cutcluster[\"BP-RP\"])]\n",
    "#We should cut by lines away from main sequence\n",
    "cutcluster = cutcluster[~np.logical_and(cutcluster[\"BP-RP\"]>1.0,cutcluster['Gmag']<10.)]\n",
    "cutcluster = cutcluster[~np.logical_and(cutcluster[\"BP-RP\"]<.7, cutcluster['Gmag']>13.8)]\n",
    "plt.plot(cutcluster['RA_ICRS'],cutcluster['DE_ICRS'],'+')\n",
    "plt.title('angular coordinates of '+cutcluster['Cluster'][0])"
   ]
  },
  {
   "cell_type": "code",
   "execution_count": null,
   "metadata": {},
   "outputs": [],
   "source": [
    "query = 'SELECT source_id, phot_bp_mean_mag, phot_rp_mean_mag FROM gaiadr2.gaia_source WHERE source_id = {}'"
   ]
  },
  {
   "cell_type": "code",
   "execution_count": null,
   "metadata": {},
   "outputs": [],
   "source": [
    "newquery = query.format(' OR source_id = '.join(list(map(str, cutcluster['Source']))))\n",
    "newquery;"
   ]
  },
  {
   "cell_type": "code",
   "execution_count": null,
   "metadata": {},
   "outputs": [],
   "source": [
    "Gaia.launch_job('SELECT source_id, phot_bp_mean_mag, phot_rp_mean_mag FROM gaiadr2.gaia_source WHERE source_id = 1842846157478382720')"
   ]
  },
  {
   "cell_type": "code",
   "execution_count": null,
   "metadata": {},
   "outputs": [],
   "source": [
    "newjob = Gaia.launch_job(query=newquery)"
   ]
  },
  {
   "cell_type": "code",
   "execution_count": null,
   "metadata": {},
   "outputs": [],
   "source": [
    "results = newjob.get_results()"
   ]
  },
  {
   "cell_type": "code",
   "execution_count": null,
   "metadata": {},
   "outputs": [],
   "source": [
    "results['phot_bp_mean_mag'].info.parent_table;"
   ]
  },
  {
   "cell_type": "code",
   "execution_count": null,
   "metadata": {},
   "outputs": [],
   "source": [
    "cutcluster.add_columns([results['phot_bp_mean_mag'],results['phot_rp_mean_mag']])"
   ]
  },
  {
   "cell_type": "code",
   "execution_count": null,
   "metadata": {},
   "outputs": [],
   "source": [
    "the_color = 'BP-RP'\n",
    "the_mag = 'phot_rp_mean_mag'"
   ]
  },
  {
   "cell_type": "code",
   "execution_count": null,
   "metadata": {},
   "outputs": [],
   "source": [
    "plt.hist(cutcluster['PMemb'])\n",
    "plt.xlabel('PMemb')\n",
    "plt.title('cluster membership probability of '+cutcluster['Cluster'][0])"
   ]
  },
  {
   "cell_type": "code",
   "execution_count": null,
   "metadata": {},
   "outputs": [],
   "source": [
    "plt.plot(cutcluster[the_color],cutcluster[the_mag], '+')\n",
    "plt.ylim(19, 7)\n",
    "plt.xlabel('color')\n",
    "plt.ylabel('magnitude')\n",
    "plt.title('color-magnitude diagram of '+cutcluster['Cluster'][0])"
   ]
  },
  {
   "cell_type": "markdown",
   "metadata": {},
   "source": [
    "PCA - diagram, inverse of variance as metric -> sqrt(thing)= transformation, apply ->PCA(test) -> KDE -> inverse transform both L and R on Kernel Widths\n",
    "\n",
    "LLE? -> Local linear embedding -> for non MS\n",
    "\n",
    "remove outliers before PCA"
   ]
  },
  {
   "cell_type": "code",
   "execution_count": null,
   "metadata": {},
   "outputs": [],
   "source": [
    "X = np.vstack([np.array(x) for x in [cutcluster[the_color], cutcluster[the_mag]]]).T"
   ]
  },
  {
   "cell_type": "code",
   "execution_count": null,
   "metadata": {},
   "outputs": [],
   "source": [
    "pca = PCA(n_components=2, whiten=True)\n",
    "kde = KD(kernel='gaussian')\n",
    "pipe = Pipeline([('pca',pca),('kde',kde)])"
   ]
  },
  {
   "cell_type": "code",
   "execution_count": null,
   "metadata": {},
   "outputs": [],
   "source": [
    "X_pipe = pipe.fit(X)"
   ]
  },
  {
   "cell_type": "code",
   "execution_count": null,
   "metadata": {},
   "outputs": [],
   "source": [
    "params = dict(kde__bandwidth=np.logspace(-2, 2, 200))\n",
    "grid = GridSearchCV(pipe, params, cv=10)\n",
    "grid.fit(X)"
   ]
  },
  {
   "cell_type": "code",
   "execution_count": null,
   "metadata": {},
   "outputs": [],
   "source": [
    "newpipe=grid.best_estimator_.fit(X)"
   ]
  },
  {
   "cell_type": "code",
   "execution_count": null,
   "metadata": {},
   "outputs": [],
   "source": [
    "X_transform = newpipe[0].transform(X)\n",
    "plt.scatter(X_transform[:,0], X_transform[:,1])\n",
    "plt.axis(\"equal\")"
   ]
  },
  {
   "cell_type": "code",
   "execution_count": null,
   "metadata": {},
   "outputs": [],
   "source": [
    "# I couldn't immediately find a KDE code that enabled different bandwidth in each dimension\n",
    "# which we want because the errors in color are much greater than the errors in magnitude\n",
    "# params = {'bandwidth': np.logspace(-2, 2, 200)}\n",
    "# grid = GridSearchCV(pipe, params, cv=10)\n",
    "# grid.fit(X_pca)\n",
    "\n",
    "print(\"best bandwidth: {0}\".format(grid.best_estimator_[1].bandwidth))\n",
    "# first attempt obviously too fine a bandwidth because it allows for double stars\n",
    "# we could fix it here or say this is just what the data is and fit an HRD model that doesn't permit those\n",
    "# so now the data is the KDE evaluated on a grid\n",
    "\n",
    "xmin = -4\n",
    "xmax = +4\n",
    "ymin = -4\n",
    "ymax = +4\n",
    "xlen = 50\n",
    "ylen = 50\n",
    "\n",
    "eval_where = np.array(list(product(np.linspace(xmin,xmax,xlen), np.linspace(ymin,ymax, ylen))))\n",
    "log_dens = pipe[1].score_samples(eval_where)\n",
    "\n",
    "plt.imshow(np.flip(np.exp(log_dens.reshape(xlen, ylen).T), axis=0),\n",
    "           extent=[xmin, xmax, ymin, ymax])\n",
    "#plt.scatter(cutcluster['BP-RP'], cutcluster[the_mag], marker='.', color='r', s=1)"
   ]
  },
  {
   "cell_type": "code",
   "execution_count": null,
   "metadata": {},
   "outputs": [],
   "source": [
    "A, B = np.mgrid[xmin:xmax:xlen*1j,ymin:ymax:ylen*1j]"
   ]
  },
  {
   "cell_type": "code",
   "execution_count": null,
   "metadata": {},
   "outputs": [],
   "source": [
    "plt.contour(A, B, np.exp(log_dens.reshape(xlen,ylen)));"
   ]
  },
  {
   "cell_type": "code",
   "execution_count": null,
   "metadata": {},
   "outputs": [],
   "source": [
    "C_grid = np.vstack([np.ravel(A), np.ravel(B)]).T\n",
    "E_grid = pipe[0].inverse_transform(C_grid)[:,0].reshape(xlen, ylen)\n",
    "F_grid = pipe[0].inverse_transform(C_grid)[:,1].reshape(xlen, ylen)"
   ]
  },
  {
   "cell_type": "code",
   "execution_count": null,
   "metadata": {},
   "outputs": [],
   "source": [
    "plt.plot(cutcluster[the_color],cutcluster[the_mag], 'r+',alpha=.4)\n",
    "plt.contour(E_grid, F_grid, np.exp(log_dens.reshape(xlen,ylen)))\n",
    "plt.ylim(19,8)\n",
    "plt.xlabel(the_color)\n",
    "plt.ylabel(the_mag)\n",
    "plt.title('color-magnitude diagram of '+cutcluster['Cluster'][0])\n",
    "plt.savefig(\"cmd.png\")"
   ]
  },
  {
   "cell_type": "code",
   "execution_count": null,
   "metadata": {},
   "outputs": [],
   "source": [
    "def pca_kde_fit(colors, mags, xlen, ylen):\n",
    "    X = np.vstack([np.array(x) for x in [colors, mags]]).T\n",
    "    X_pipe = pipe.fit(X)\n",
    "    params = dict(kde__bandwidth=np.logspace(-2, 2, 200))\n",
    "    grid = GridSearchCV(pipe, params, cv=10)\n",
    "    grid.fit(X)\n",
    "    newpipe = grid.best_estimator_.fit(X)\n",
    "    return newpipe\n",
    "\n",
    "def pca_kde_score(newpipe, xlims, ylims, ranges):\n",
    "    xmin, xmax = xlims\n",
    "    ymin, ymax = ylims\n",
    "    xlen, ylen = ranges\n",
    "    eval_where = np.array(list(product(np.linspace(xmin,xmax,xlen), np.linspace(ymin,ymax, ylen))))\n",
    "    A, B = np.mgrid[xmin:xmax:xlen*1j,ymin:ymax:ylen*1j]\n",
    "    log_dens = newpipe[1].score_samples(eval_where)\n",
    "    return (A, B, log_dens.reshape(xlen, ylen))"
   ]
  },
  {
   "cell_type": "code",
   "execution_count": null,
   "metadata": {},
   "outputs": [],
   "source": [
    "xmin, xmax = (-4., 4.)\n",
    "ymin, ymax = (-4., 4.)\n",
    "xlen, ylen = (50, 50)"
   ]
  },
  {
   "cell_type": "code",
   "execution_count": null,
   "metadata": {},
   "outputs": [],
   "source": [
    "testpipe = pca_kde_fit(cutcluster[the_color], cutcluster[the_mag], 50, 50)\n",
    "xgrid, ygrid, logdens = pca_kde_score(testpipe, (-4., 4.), (-4., 4.), (50, 50))"
   ]
  },
  {
   "cell_type": "code",
   "execution_count": null,
   "metadata": {},
   "outputs": [],
   "source": [
    "plt.contour(xgrid, ygrid, np.exp(logdens.reshape(xlen,ylen)));"
   ]
  },
  {
   "cell_type": "code",
   "execution_count": null,
   "metadata": {},
   "outputs": [],
   "source": [
    "def kde_ipca(newpipe, grids, lens):\n",
    "    xlen, ylen = lens\n",
    "    A, B = grids\n",
    "    C_grid = np.vstack([np.ravel(A), np.ravel(B)]).T\n",
    "    E_grid = newpipe[0].inverse_transform(C_grid)[:,0].reshape(xlen, ylen)\n",
    "    F_grid = newpipe[0].inverse_transform(C_grid)[:,1].reshape(xlen, ylen)\n",
    "    return E_grid, F_grid"
   ]
  },
  {
   "cell_type": "code",
   "execution_count": null,
   "metadata": {},
   "outputs": [],
   "source": [
    "α, β = kde_ipca(testpipe, (xgrid, ygrid), (50, 50))"
   ]
  },
  {
   "cell_type": "code",
   "execution_count": null,
   "metadata": {},
   "outputs": [],
   "source": [
    "plt.plot(cutcluster[the_color], cutcluster[the_mag], 'r+',alpha=.4)\n",
    "plt.contour(α, β, np.exp(logdens.reshape(50, 50)))\n",
    "plt.ylim(19,8)\n",
    "plt.xlabel(the_color)\n",
    "plt.ylabel(the_mag)\n",
    "plt.title('color-magnitude diagram of '+cutcluster['Cluster'][0])"
   ]
  },
  {
   "cell_type": "code",
   "execution_count": null,
   "metadata": {},
   "outputs": [],
   "source": [
    "def get_cmsamps(newpipe, nsamps):\n",
    "    samps = np.array([[x,y] for x,y in newpipe[1].sample(nsamps)])\n",
    "    cmsamps = newpipe[0].inverse_transform(samps)\n",
    "    return (*(cmsamps[:,i] for i in [0,1]),)"
   ]
  },
  {
   "cell_type": "code",
   "execution_count": null,
   "metadata": {},
   "outputs": [],
   "source": [
    "def get_added_samps(newpipe,nsamps,multi=2):\n",
    "    colors, mags = get_cmsamps(newpipe, nsamps)\n",
    "    return [np.fromiter(starmap(z, nwise(multi)(mags, colors)), np.float64) for z in [magsum, colorsum]]"
   ]
  },
  {
   "cell_type": "code",
   "execution_count": null,
   "metadata": {},
   "outputs": [],
   "source": [
    "toflux, tomag = lambda m: 10.**(-2/5.*m), lambda ϕ: -5./2*np.log10(ϕ)\n",
    "magsum = lambda m, c: tomag(sum(((toflux(g) for g in m))))\n",
    "colorsum = lambda m, c: tomag(sum((toflux(g+h) for g,h in zip(m,c))))-magsum(m,c)\n",
    "nwise = lambda n: lambda x,y: (map(np.array, zip(*a)) for a in combinations(zip(x,y),n))"
   ]
  },
  {
   "cell_type": "code",
   "execution_count": null,
   "metadata": {},
   "outputs": [],
   "source": [
    "newmags, newcolors = get_added_samps(testpipe, 100)"
   ]
  },
  {
   "cell_type": "markdown",
   "metadata": {},
   "source": [
    "### do the newly-defined transforms here and plot that instead of KDE in color-mag space"
   ]
  },
  {
   "cell_type": "code",
   "execution_count": null,
   "metadata": {},
   "outputs": [],
   "source": [
    "doublepipe = pca_kde_fit(newcolors, newmags, 50, 50)\n",
    "xgrid, ygrid, logdens = pca_kde_score(doublepipe, (-4., 4.), (-4., 4.), (50, 50))"
   ]
  },
  {
   "cell_type": "code",
   "execution_count": null,
   "metadata": {},
   "outputs": [],
   "source": [
    "# sns.kdeplot(colors,mags, label='KDE(single samples)', alpha=0.5)\n",
    "sns.kdeplot(newcolors, newmags, label='KDE(pairwise added samples)',alpha=0.5)\n",
    "# plt.contour(E_grid, F_grid, np.exp(log_dens.reshape(xlen,ylen)), label='original data', linewidth=0.5)\n",
    "plt.plot(cutcluster[the_color],cutcluster[the_mag], 'r+',alpha=.4, label='original data')\n",
    "plt.legend()\n",
    "plt.ylim(18,7)"
   ]
  },
  {
   "cell_type": "code",
   "execution_count": null,
   "metadata": {},
   "outputs": [],
   "source": [
    "pipe[0].transform"
   ]
  },
  {
   "cell_type": "code",
   "execution_count": null,
   "metadata": {},
   "outputs": [],
   "source": [
    "pipe[0].transform"
   ]
  },
  {
   "cell_type": "markdown",
   "metadata": {},
   "source": [
    "### END OF REAL WORK"
   ]
  }
 ],
 "metadata": {
  "colab": {
   "collapsed_sections": [],
   "name": "test-realtime",
   "provenance": [],
   "version": "0.3.2"
  },
  "kernelspec": {
   "display_name": "Python 3",
   "language": "python",
   "name": "python3"
  },
  "language_info": {
   "codemirror_mode": {
    "name": "ipython",
    "version": 2
   },
   "file_extension": ".py",
   "mimetype": "text/x-python",
   "name": "python",
   "nbconvert_exporter": "python",
   "pygments_lexer": "ipython2",
   "version": "2.7.15rc1"
  }
 },
 "nbformat": 4,
 "nbformat_minor": 1
}
