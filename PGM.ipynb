{
 "cells": [
  {
   "cell_type": "markdown",
   "metadata": {},
   "source": [
    "_Alex Malz (NYU) & David Mykytyn (NYU)_"
   ]
  },
  {
   "cell_type": "code",
   "execution_count": null,
   "metadata": {},
   "outputs": [],
   "source": [
    "import daft\n",
    "\n",
    "# pip install jupyter_contrib_nbextensions\n",
    "# %%javascript\n",
    "# MathJax.Hub.Config({\n",
    "#     TeX: { equationNumbers: { autoNumber: \"AMS\" } }\n",
    "# });"
   ]
  },
  {
   "cell_type": "markdown",
   "metadata": {},
   "source": [
    "A first stab at a PGM for the HR diagram (parameterized by $HR$) of open clusters $k$ (parameterized by $OC$) with double/triple stars -- groups $\\{j'\\}$ of physical stars $j$ (with true latent colors $c$, magnitudes $M$, kinematics $v$, and physical locations $x$) identified as a single star $i$ with with observed properties (color $\\hat{c}$, magnitude $\\hat{M}$, parallax $\\hat{\\varpi}$, proper motion $\\hat{v}_{\\perp}$, and angular position $\\hat{x}_{\\perp}$) that are influenced by the stars $\\{j'\\}$ that went into it.\n",
    "So far, we're assuming that star clusters are independent, i.e. that we do not have any interlopers from other stellar populations."
   ]
  },
  {
   "cell_type": "code",
   "execution_count": null,
   "metadata": {},
   "outputs": [],
   "source": [
    "#initialize the PGM\n",
    "pgm = daft.PGM([5., 6.5], origin=[0, 0])\n",
    "\n",
    "#undesired hyperparameters\n",
    "pgm.add_node(daft.Node(\"physics\", r\"$\\vec{\\theta}$\", 2.5, 6.))\n",
    "\n",
    "#desired hyperparameters\n",
    "pgm.add_node(daft.Node(\"HR\", r\"HR\", 2., 5.))\n",
    "pgm.add_node(daft.Node(\"OC\", r\"OC\", 3., 5.))\n",
    "\n",
    "#latent variables/parameters\n",
    "pgm.add_node(daft.Node(\"photometry\", r\"$M, c$\", 2., 3.5))\n",
    "pgm.add_node(daft.Node(\"astrometry\", r\"$v, x$\", 3., 4.))\n",
    "pgm.add_node(daft.Node(\"multiplicity\", r\"$\\{j'\\}$\", 2.5, 2.25))\n",
    "\n",
    "#known constant parameters\n",
    "pgm.add_node(daft.Node(\"resolution\", r\"$\\delta_{x}$\", 4.5, 3., fixed=True))\n",
    "pgm.add_node(daft.Node(\"mag limits\", r\"$\\delta_{M}$\", 0.5, 1., fixed=True))\n",
    "pgm.add_node(daft.Node(\"limits\", r\"$\\delta_{\\varpi}, \\delta_{v}$\", 4.5, 1., fixed=True))\n",
    "\n",
    "#data\n",
    "pgm.add_node(daft.Node(\"phot observations\", r\"$\\hat{M}, \\hat{c}$\", 2., 1.5, aspect=1., observed=True))\n",
    "pgm.add_node(daft.Node(\"ast observations\", r\"$\\hat{\\varpi}, \\hat{v}_{\\perp}, \\hat{x}_{\\perp}$\", 3., 1.5, aspect=1.75, observed=True))\n",
    "\n",
    "\n",
    "# Add in the edges.\n",
    "# pgm.add_edge(\"\", \"\")\n",
    "pgm.add_edge(\"physics\", \"HR\")\n",
    "pgm.add_edge(\"physics\", \"OC\")\n",
    "\n",
    "pgm.add_edge(\"HR\", \"photometry\")\n",
    "pgm.add_edge(\"OC\", \"astrometry\")\n",
    "pgm.add_edge(\"astrometry\", \"multiplicity\")\n",
    "\n",
    "pgm.add_edge(\"resolution\", \"multiplicity\")\n",
    "pgm.add_edge(\"resolution\", \"ast observations\")\n",
    "pgm.add_edge(\"limits\", \"ast observations\")\n",
    "pgm.add_edge(\"mag limits\", \"phot observations\")\n",
    "pgm.add_edge(\"photometry\", \"phot observations\")\n",
    "pgm.add_edge(\"astrometry\", \"ast observations\")\n",
    "pgm.add_edge(\"multiplicity\", \"phot observations\")\n",
    "pgm.add_edge(\"multiplicity\", \"ast observations\")\n",
    "\n",
    "# plates\n",
    "pgm.add_plate(daft.Plate([1.5, 3., 2., 1.5], label=r\"physical stars $j$\", bbox={\"color\": \"none\"}))\n",
    "pgm.add_plate(daft.Plate([1., 0.5, 3., 5.], label=r\"star clusters $k$\", bbox={\"color\": \"none\"}))\n",
    "pgm.add_plate(daft.Plate([1.5, 1., 2., 1.75], label=r\"observed stars $i$\", bbox={\"color\": \"none\"}))\n",
    "\n",
    "# Render and save.\n",
    "pgm.render()\n",
    "pgm.figure.savefig(\"OCmodel.png\", dpi=250)"
   ]
  },
  {
   "cell_type": "markdown",
   "metadata": {},
   "source": [
    "Our immediate goal is a forward model that produces $p(HR \\mid \\{\\hat{M}, \\hat{c}\\})$, where $HR$ parameterizes the space of $\\{M, c\\}$, i.e. $p(M, c \\mid HR) = f(HR)$, by marginalizing over $s/b/t$ and $M, c$.\n",
    "(A reach goal is to also get $p(HR \\mid \\vec{\\theta})$.)\n",
    "So far, we're thinking that $f(HR)$ should be a Gaussian process."
   ]
  },
  {
   "cell_type": "markdown",
   "metadata": {},
   "source": [
    "The forward model is as follows:\n",
    "\\begin{eqnarray}\n",
    "\\{M, c\\}_{j} & \\sim & p(M, c \\mid HR_{k})\\\\\n",
    "\\{v, x\\}_{j} & \\sim & p(v, x \\mid OC_{k})\\\\\n",
    "\\{j'\\}_{i} & \\sim & p(\\{j\\} \\mid \\{x\\}_{j}, \\delta_{x})\\\\\n",
    "\\{\\hat{\\varpi}, \\hat{v}_{\\perp}, \\hat{x}_{\\perp}\\}_{i} & \\sim & p(\\hat{\\varpi}, \\hat{v}_{\\perp}, \\hat{x}_{\\perp} \\mid \\{v, x\\}_{j'}, \\delta_{\\varpi}, \\delta_{v}, \\delta_{x})\\\\\n",
    "\\{\\hat{M}, \\hat{c}\\}_{i} & \\sim & p(\\hat{M}, \\hat{c} \\mid \\{M, c\\}_{j'}, \\delta_{M})\n",
    "\\end{eqnarray}"
   ]
  },
  {
   "cell_type": "markdown",
   "metadata": {},
   "source": [
    "Knowing the definition of magnitude in terms of flux and assuming that the observed flux of \"star\" $i$ is the sum of the fluxes of the physical stars $\\{j'\\}$ gives us $p(\\hat{M}, \\hat{c} \\mid \\{M, c\\}_{j'}, \\delta_{M})$, plus the Gaussian error due to the magnitude limit $\\delta_{M}$.\n",
    "We're not really sure why [Widmark+18](https://arxiv.org/pdf/1801.08547) uses a sum of Gaussians for this.\n",
    "\n",
    "For now, let's assume that $p(\\hat{\\varpi}, \\hat{v}_{\\perp}, \\hat{x}_{\\perp} \\mid \\{v, x\\}_{j'}, \\delta_{\\varpi}, \\delta_{v}, \\delta_{x})$ is a Gaussian around the true values derived from the definition of $\\varpi$ and the trigonometry for the projected observations.\n",
    "Note that [Gagne+18](https://arxiv.org/pdf/1801.09051.pdf) carefully outlines the inverse of the math we seek for a forward model.\n",
    "\n",
    "Also, knowing the definitions of the resolution limit, we can construct $p(\\{j\\} \\mid \\{x\\}_{j}, \\delta_{x})$ as a delta function kind of thing, so it's 1 for $\\{j\\} = j', j'', \\dots$ if $|x_{j'} - x_{j''}| < \\delta_{x}$ and 0 otherwise, to consider groups of $\\{j'\\}$ that are perceived as $i$; ultimately, this would also have a Gaussian component but I'm just starting with an oversimplification.\n",
    "\n",
    "The only other things we need are a 2D Gaussian Process we believe for $p(M, c \\mid HR_{k})$ and some model for $p(v, x \\mid OC_{k})$, presumably derived from physics.\n",
    "It looks like [Gagne+18](https://arxiv.org/pdf/1801.09051.pdf) also gives a physically motivated $p(v, x \\mid OC_{k})$."
   ]
  },
  {
   "cell_type": "markdown",
   "metadata": {},
   "source": [
    "What we really want to do, though, is posterior inference, so we need to turn this around and/or figure out what parts of this to forward model with sampling and what parts to analytically invert, etc.!"
   ]
  },
  {
   "cell_type": "markdown",
   "metadata": {},
   "source": []
  },
  {
   "cell_type": "markdown",
   "metadata": {},
   "source": []
  },
  {
   "cell_type": "code",
   "execution_count": null,
   "metadata": {},
   "outputs": [],
   "source": []
  }
 ],
 "metadata": {
  "kernelspec": {
   "display_name": "Python 3",
   "language": "python",
   "name": "python3"
  }
 },
 "nbformat": 4,
 "nbformat_minor": 2
}
