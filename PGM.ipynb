{
 "cells": [
  {
   "cell_type": "code",
   "execution_count": 1,
   "metadata": {},
   "outputs": [],
   "source": [
    "import daft"
   ]
  },
  {
   "cell_type": "code",
   "execution_count": 39,
   "metadata": {},
   "outputs": [
    {
     "data": {
      "image/png": "[encoded data removed]",
      "text/plain": [
       "<Figure size 340.157x311.811 with 1 Axes>"
      ]
     },
     "metadata": {},
     "output_type": "display_data"
    }
   ],
   "source": [
    "#initialize the PGM\n",
    "pgm = daft.PGM([6., 5.5], origin=[0, 0])\n",
    "\n",
    "#undesired hyperparameters\n",
    "pgm.add_node(daft.Node(\"physics\", r\"$\\vec{\\theta}$\", 2.5, 5.))\n",
    "\n",
    "#desired hyperparameters\n",
    "pgm.add_node(daft.Node(\"HR\", r\"HR\", 2., 4.))\n",
    "pgm.add_node(daft.Node(\"OC\", r\"OC\", 3., 4.))\n",
    "\n",
    "#latent variables/parameters\n",
    "pgm.add_node(daft.Node(\"photometry\", r\"$M, c$\", 2., 3.))\n",
    "pgm.add_node(daft.Node(\"astrometry\", r\"$\\varpi, v, x$\", 3., 3.))\n",
    "pgm.add_node(daft.Node(\"multiplicity\", r\"$s/b/t$\", 3.5, 2.))\n",
    "\n",
    "#known constant parameters\n",
    "pgm.add_node(daft.Node(\"resolution\", r\"$\\delta_{x}$\", 5.5, 2., fixed=True))\n",
    "pgm.add_node(daft.Node(\"limits\", r\"$\\delta_{M}, \\delta_{\\varpi}, \\delta_{v}$\", 0.5, 1., fixed=True))\n",
    "\n",
    "#data\n",
    "pgm.add_node(daft.Node(\"observations\", r\"$\\hat{M}, \\hat{c}, \\hat{\\varpi}, \\hat{v}, \\hat{x}$\", 2.5, 1., aspect=2., observed=True))\n",
    "\n",
    "# Add in the edges.\n",
    "# pgm.add_edge(\"\", \"\")\n",
    "pgm.add_edge(\"physics\", \"HR\")\n",
    "pgm.add_edge(\"physics\", \"OC\")\n",
    "\n",
    "pgm.add_edge(\"HR\", \"photometry\")\n",
    "pgm.add_edge(\"OC\", \"astrometry\")\n",
    "pgm.add_edge(\"astrometry\", \"multiplicity\")\n",
    "\n",
    "pgm.add_edge(\"resolution\", \"multiplicity\")\n",
    "pgm.add_edge(\"limits\", \"observations\")\n",
    "pgm.add_edge(\"photometry\", \"observations\")\n",
    "pgm.add_edge(\"astrometry\", \"observations\")\n",
    "pgm.add_edge(\"multiplicity\", \"observations\")\n",
    "\n",
    "# pgm.add_edge(\"dist\", \"type\")\n",
    "# pgm.add_edge(\"cosmology\", \"distance\")\n",
    "# pgm.add_edge(\"dist\", \"redshift\")\n",
    "# pgm.add_edge(\"redshift\", \"distance\")\n",
    "# #pgm.add_edge(\"distance\", \"photometry\")\n",
    "# pgm.add_edge(\"distance\", \"lightcurve\")\n",
    "# pgm.add_edge(\"redshift\", \"photometry\")\n",
    "# pgm.add_edge(\"redshift\", \"lightcurve\")\n",
    "# pgm.add_edge(\"type\", \"lightcurve\")\n",
    "# pgm.add_edge(\"photometry selection\", \"photometry\")\n",
    "# pgm.add_edge(\"lightcurve selection\", \"lightcurve\")\n",
    "\n",
    "# plates\n",
    "pgm.add_plate(daft.Plate([2., 0.5, 2., 2.], label=r\"observations\", bbox={\"color\": \"none\"}))\n",
    "pgm.add_plate(daft.Plate([1.5, 0.3, 3., 3.], label=r\"stars\", bbox={\"color\": \"none\"}))\n",
    "pgm.add_plate(daft.Plate([1., 0.1, 4., 4.5], label=r\"clusters\", bbox={\"color\": \"none\"}))\n",
    "\n",
    "# Render and save.\n",
    "pgm.render()\n",
    "pgm.figure.savefig(\"OCmodel.png\", dpi=250)"
   ]
  },
  {
   "cell_type": "code",
   "execution_count": null,
   "metadata": {},
   "outputs": [],
   "source": []
  }
 ],
 "metadata": {
  "kernelspec": {
   "display_name": "justice (Python 3)",
   "language": "python",
   "name": "justice_3"
  },
  "language_info": {
   "codemirror_mode": {
    "name": "ipython",
    "version": 3
   },
   "file_extension": ".py",
   "mimetype": "text/x-python",
   "name": "python",
   "nbconvert_exporter": "python",
   "pygments_lexer": "ipython3",
   "version": "3.6.5"
  }
 },
 "nbformat": 4,
 "nbformat_minor": 2
}
