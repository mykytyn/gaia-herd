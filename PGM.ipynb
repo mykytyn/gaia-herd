{
 "cells": [
  {
   "cell_type": "markdown",
   "metadata": {},
   "source": [
    "_Alex Malz (NYU) & David Mykytyn (NYU)_"
   ]
  },
  {
   "cell_type": "code",
   "execution_count": null,
   "metadata": {},
   "outputs": [],
   "source": [
    "import daft"
   ]
  },
  {
   "cell_type": "markdown",
   "metadata": {},
   "source": [
    "A first stab at a PGM for the HR diagram (parameterized by $HR$) of open clusters $k$ (parameterized by $OC$) with double/triple stars -- groups $\\{j'\\}$ of physical stars $j$ (with true latent colors $c$, magnitudes $M$, kinematics $v$, and physical locations $x$) identified as a single star $i$ with with observed properties (color $\\hat{c}$, magnitude $\\hat{M}$, parallax $\\hat{\\varpi}$, proper motion $\\hat{v}_{\\perp}$, and angular position $\\hat{x}_{\\perp}$) that are influenced by the stars $\\{j\\}$ that went into it.\n",
    "So far, we're assuming that star clusters are independent, i.e. that we do not have any interlopers from other stellar populations."
   ]
  },
  {
   "cell_type": "code",
   "execution_count": null,
   "metadata": {},
   "outputs": [],
   "source": [
    "#initialize the PGM\n",
    "pgm = daft.PGM([5., 6.5], origin=[0, 0])\n",
    "\n",
    "#undesired hyperparameters\n",
    "pgm.add_node(daft.Node(\"physics\", r\"$\\vec{\\theta}$\", 2.5, 6.))\n",
    "\n",
    "#desired hyperparameters\n",
    "pgm.add_node(daft.Node(\"HR\", r\"HR\", 2., 5.))\n",
    "pgm.add_node(daft.Node(\"OC\", r\"OC\", 3., 5.))\n",
    "\n",
    "#latent variables/parameters\n",
    "pgm.add_node(daft.Node(\"photometry\", r\"$M, c$\", 2., 3.5))\n",
    "pgm.add_node(daft.Node(\"astrometry\", r\"$v, x$\", 3., 4.))\n",
    "pgm.add_node(daft.Node(\"multiplicity\", r\"$\\{j'\\}$\", 2.5, 2.25))\n",
    "\n",
    "#known constant parameters\n",
    "pgm.add_node(daft.Node(\"resolution\", r\"$\\delta_{x}$\", 4.5, 3., fixed=True))\n",
    "pgm.add_node(daft.Node(\"mag limits\", r\"$\\delta_{M}$\", 0.5, 1., fixed=True))\n",
    "pgm.add_node(daft.Node(\"limits\", r\"$\\delta_{\\varpi}, \\delta_{v}$\", 4.5, 1., fixed=True))\n",
    "\n",
    "#data\n",
    "pgm.add_node(daft.Node(\"phot observations\", r\"$\\hat{M}, \\hat{c}$\", 2., 1.5, aspect=1., observed=True))\n",
    "pgm.add_node(daft.Node(\"ast observations\", r\"$\\hat{\\varpi}, \\hat{v}_{\\perp}, \\hat{x}_{\\perp}$\", 3., 1.5, aspect=1.75, observed=True))\n",
    "\n",
    "\n",
    "# Add in the edges.\n",
    "# pgm.add_edge(\"\", \"\")\n",
    "pgm.add_edge(\"physics\", \"HR\")\n",
    "pgm.add_edge(\"physics\", \"OC\")\n",
    "\n",
    "pgm.add_edge(\"HR\", \"photometry\")\n",
    "pgm.add_edge(\"OC\", \"astrometry\")\n",
    "pgm.add_edge(\"astrometry\", \"multiplicity\")\n",
    "\n",
    "pgm.add_edge(\"resolution\", \"multiplicity\")\n",
    "pgm.add_edge(\"resolution\", \"ast observations\")\n",
    "pgm.add_edge(\"limits\", \"ast observations\")\n",
    "pgm.add_edge(\"mag limits\", \"phot observations\")\n",
    "pgm.add_edge(\"photometry\", \"phot observations\")\n",
    "pgm.add_edge(\"astrometry\", \"ast observations\")\n",
    "pgm.add_edge(\"multiplicity\", \"phot observations\")\n",
    "pgm.add_edge(\"multiplicity\", \"ast observations\")\n",
    "\n",
    "# plates\n",
    "pgm.add_plate(daft.Plate([1.5, 3., 2., 1.5], label=r\"physical stars $j$\", bbox={\"color\": \"none\"}))\n",
    "pgm.add_plate(daft.Plate([1., 0.5, 3., 5.], label=r\"star clusters $k$\", bbox={\"color\": \"none\"}))\n",
    "pgm.add_plate(daft.Plate([1.5, 1., 2., 1.75], label=r\"observed stars $i$\", bbox={\"color\": \"none\"}))\n",
    "\n",
    "# Render and save.\n",
    "pgm.render()\n",
    "pgm.figure.savefig(\"OCmodel.png\", dpi=250)"
   ]
  },
  {
   "cell_type": "markdown",
   "metadata": {},
   "source": [
    "Our immediate goal is a forward model that produces $p(HR \\mid \\{\\hat{M}, \\hat{c}\\})$, where $HR$ parameterizes the space of $\\{M, c\\}$, i.e. $p(M, c \\mid HR) = f(HR)$, by marginalizing over $s/b/t$ and $M, c$.\n",
    "(A reach goal is to also get $p(HR \\mid \\vec{\\theta})$.)\n",
    "So far, we're thinking that $f(HR)$ should be a Gaussian process."
   ]
  },
  {
   "cell_type": "markdown",
   "metadata": {},
   "source": [
    "The forward model is as follows:\n",
    "\\begin{eqnarray}\n",
    "\\{M, c\\}_{j} & \\sim & p(M, c \\mid HR_{k})\\\\\n",
    "\\{v, x\\}_{j} & \\sim & p(v, x \\mid OC_{k})\\\\\n",
    "\\{j'\\}_{i} & \\sim & p(i \\mid \\{x\\}_{j}, \\delta_{x})\\\\\n",
    "\\{\\hat{\\varpi}, \\hat{v}_{\\perp}, \\hat{x}_{\\perp}\\}_{i} & \\sim & p(\\hat{\\varpi}, \\hat{v}_{\\perp}, \\hat{x}_{\\perp} \\mid \\{v, x\\}_{j'}, \\delta_{\\varpi}, \\delta_{v}, \\delta_{x})\\\\\n",
    "\\{\\hat{M}, \\hat{c}\\}_{i} & \\sim & p(\\hat{M}, \\hat{c} \\mid \\{M, c\\}_{j'}, \\delta_{M})\n",
    "\\end{eqnarray}"
   ]
  },
  {
   "cell_type": "markdown",
   "metadata": {},
   "source": [
    "%\\begin{eqnarray}\n",
    "%p(HR \\vert \\{\\hat{M}, \\hat{c}\\}) & \\propto & p(HR) p(\\{\\hat{M}, \\hat{c}\\} \\mid HR)\\\\\n",
    "%& \\propto & p(HR) \\int p(\\hat{M}, \\hat{c} \\mid M, c, s/b/t) p(M, c \\mid HR) dM dc\n",
    "% & \\propto & p(HR) \\int \\int p(\\hat{M}, \\hat{c} \\mid M, c, s/b/t) p(s/b/t \\mid \\varpi, v, x) ds/b/t p(M, c \\mid HR) dM dc\n",
    "%\\end{eqnarray}"
   ]
  },
  {
   "cell_type": "markdown",
   "metadata": {},
   "source": [
    "%\\begin{eqnarray}\n",
    "%p(HR \\vert \\hat{M}, \\hat{c}, \\hat{\\varpi}, \\hat{v}, \\hat{x}) & \\propto & p(HR) p(\\hat{M}, \\hat{c}, \\hat{\\varpi}, \\hat{v}, \\hat{x} \\mid HR)\\\\\n",
    "%& \\propto & p(HR) \\int p(\\hat{M}, \\hat{c} \\mid M, c, s/b/t) p(\\hat{\\varpi}, \\hat{v}, \\hat{x} \\mid s/b/t, \\varpi, v, x) p(M, c \\mid HR) dM dc d\\varpi dv dx\\\\\n",
    "%& \\propto & p(HR) \\iint \\int p(\\hat{M}, \\hat{c} \\mid M, c, s/b/t) p(s/b/t \\mid \\varpi, v, x) ds/b/t p(M, c \\mid HR) dM dc\n",
    "%\\end{eqnarray}"
   ]
  },
  {
   "cell_type": "code",
   "execution_count": null,
   "metadata": {},
   "outputs": [],
   "source": []
  }
 ],
 "metadata": {
  "kernelspec": {
   "display_name": "justice (Python 3)",
   "language": "python",
   "name": "justice_3"
  },
  "language_info": {
   "codemirror_mode": {
    "name": "ipython",
    "version": 3
   },
   "file_extension": ".py",
   "mimetype": "text/x-python",
   "name": "python",
   "nbconvert_exporter": "python",
   "pygments_lexer": "ipython3",
   "version": "3.6.5"
  }
 },
 "nbformat": 4,
 "nbformat_minor": 2
}
