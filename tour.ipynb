{
 "cells": [
  {
   "cell_type": "markdown",
   "metadata": {},
   "source": [
    "David Mykytyn and Alex Malz\n",
    "\n",
    "Goals and scope: "
   ]
  },
  {
   "cell_type": "code",
   "execution_count": null,
   "metadata": {
    "colab": {},
    "colab_type": "code",
    "id": "2-N_LWQheTU9"
   },
   "outputs": [],
   "source": [
    "from itertools import product, combinations, count, permutations, starmap, chain, repeat\n",
    "import numpy as np\n",
    "import pandas as pd\n",
    "from astroquery.vizier import Vizier\n",
    "import matplotlib.pyplot as plt\n",
    "import astropy as ap\n",
    "import sklearn\n",
    "from sklearn.neighbors import KernelDensity as KD\n",
    "from sklearn.model_selection import GridSearchCV\n",
    "from sklearn.decomposition import PCA, KernelPCA\n",
    "import corner\n",
    "from sklearn.mixture import GaussianMixture as GM\n",
    "from sklearn.mixture import BayesianGaussianMixture as BGM\n",
    "from sklearn.pipeline import Pipeline\n",
    "from scipy.stats import norm\n",
    "from matplotlib.colors import LogNorm\n",
    "from astroquery.gaia import Gaia\n",
    "from scipy import stats\n",
    "import seaborn as sns"
   ]
  },
  {
   "cell_type": "code",
   "execution_count": null,
   "metadata": {},
   "outputs": [],
   "source": [
    "import Herd"
   ]
  },
  {
   "cell_type": "code",
   "execution_count": null,
   "metadata": {},
   "outputs": [],
   "source": [
    "%matplotlib inline"
   ]
  },
  {
   "cell_type": "markdown",
   "metadata": {},
   "source": [
    "Good `'Cluster'`s to choose from: Alessi\\_24, ASCC_99, Alessi\\_12"
   ]
  },
  {
   "cell_type": "code",
   "execution_count": null,
   "metadata": {},
   "outputs": [],
   "source": [
    "cluster=Herd.get_cluster()"
   ]
  },
  {
   "cell_type": "code",
   "execution_count": null,
   "metadata": {},
   "outputs": [],
   "source": [
    "the_color = 'BP-RP'\n",
    "the_mag = 'phot_rp_mean_mag'"
   ]
  },
  {
   "cell_type": "code",
   "execution_count": null,
   "metadata": {},
   "outputs": [],
   "source": [
    "plt.hist(cluster['PMemb'])\n",
    "plt.xlabel('PMemb')\n",
    "plt.title('cluster membership probability of '+cluster['Cluster'][0])"
   ]
  },
  {
   "cell_type": "code",
   "execution_count": null,
   "metadata": {},
   "outputs": [],
   "source": [
    "plt.plot(cluster[the_color],cluster[the_mag], '+')\n",
    "plt.ylim(19, 7)\n",
    "plt.xlabel('color')\n",
    "plt.ylabel('magnitude')\n",
    "plt.title('color-magnitude diagram of '+cluster['Cluster'][0])"
   ]
  },
  {
   "cell_type": "markdown",
   "metadata": {},
   "source": [
    "PCA - diagram, inverse of variance as metric -> sqrt(thing)= transformation, apply ->PCA(test) -> KDE -> inverse transform both L and R on Kernel Widths\n",
    "\n",
    "LLE? -> Local linear embedding -> for non MS\n",
    "\n",
    "remove outliers before PCA"
   ]
  },
  {
   "cell_type": "code",
   "execution_count": null,
   "metadata": {},
   "outputs": [],
   "source": [
    "xmin, xmax = (-4., 4.)\n",
    "ymin, ymax = (-4., 4.)\n",
    "xlen, ylen = (50, 50)"
   ]
  },
  {
   "cell_type": "code",
   "execution_count": null,
   "metadata": {},
   "outputs": [],
   "source": [
    "xlims = xmin, xmax\n",
    "ylims = ymin, ymax\n",
    "ranges = xlen, ylen"
   ]
  },
  {
   "cell_type": "code",
   "execution_count": null,
   "metadata": {},
   "outputs": [],
   "source": [
    "pipe = Herd.pca_kde_pipe()\n",
    "pipe = Herd.pca_kde_fit(pipe, cluster[the_color], cluster[the_mag])\n",
    "xlin, ylin, xgrid, ygrid = Herd.gen_grid(xlims, ylims, ranges)\n",
    "lins = xlin, ylin\n",
    "grids = xgrid, ygrid\n",
    "logdens = Herd.pca_kde_score(pipe, lins)"
   ]
  },
  {
   "cell_type": "code",
   "execution_count": null,
   "metadata": {},
   "outputs": [],
   "source": [
    "plt.contour(xgrid, ygrid, np.exp(logdens));"
   ]
  },
  {
   "cell_type": "code",
   "execution_count": null,
   "metadata": {},
   "outputs": [],
   "source": [
    "α, β = Herd.kde_ipca(pipe, grids, ranges)"
   ]
  },
  {
   "cell_type": "code",
   "execution_count": null,
   "metadata": {},
   "outputs": [],
   "source": [
    "plt.plot(cluster[the_color], cluster[the_mag], 'r+',alpha=.4)\n",
    "plt.contour(α, β, np.exp(logdens))\n",
    "plt.ylim(19,8)\n",
    "plt.xlabel(the_color)\n",
    "plt.ylabel(the_mag)\n",
    "plt.title('color-magnitude diagram of '+cluster['Cluster'][0])"
   ]
  },
  {
   "cell_type": "code",
   "execution_count": null,
   "metadata": {},
   "outputs": [],
   "source": [
    "newmags, newcolors = Herd.get_added_samps(pipe, 100)"
   ]
  },
  {
   "cell_type": "markdown",
   "metadata": {},
   "source": [
    "### do the newly-defined transforms here and plot that instead of KDE in color-mag space"
   ]
  },
  {
   "cell_type": "code",
   "execution_count": null,
   "metadata": {},
   "outputs": [],
   "source": [
    "doublepipe = Herd.pca_kde_fit(Herd.pca_kde_pipe(), newcolors[::10], newmags[::10])\n",
    "double_logdens = Herd.pca_kde_score(doublepipe, lins)"
   ]
  },
  {
   "cell_type": "code",
   "execution_count": null,
   "metadata": {},
   "outputs": [],
   "source": [
    "α2, β2 = Herd.kde_ipca(doublepipe, grids, ranges)"
   ]
  },
  {
   "cell_type": "code",
   "execution_count": null,
   "metadata": {},
   "outputs": [],
   "source": [
    "plt.plot(cluster[the_color], cluster[the_mag], 'r+',alpha=.4)\n",
    "plt.contour(α2, β2, np.exp(double_logdens))\n",
    "plt.ylim(19,8)\n",
    "plt.xlabel(the_color)\n",
    "plt.ylabel(the_mag)\n",
    "plt.title('color-magnitude diagram of '+cluster['Cluster'][0])"
   ]
  },
  {
   "cell_type": "code",
   "execution_count": null,
   "metadata": {},
   "outputs": [],
   "source": [
    "s_KDE = pipe[1]\n",
    "d_KDE = doublepipe[1]"
   ]
  },
  {
   "cell_type": "code",
   "execution_count": null,
   "metadata": {},
   "outputs": [],
   "source": [
    "X = Herd.samps_vstack(cluster[the_color],cluster[the_mag])\n",
    "X_transform = pipe[0].transform(X)"
   ]
  },
  {
   "cell_type": "code",
   "execution_count": null,
   "metadata": {},
   "outputs": [],
   "source": [
    "def get_scores(apipe, colors, mags):\n",
    "    X = Herd.samps_vstack(colors,mags)\n",
    "    X_transform = apipe[0].transform(X)\n",
    "    return apipe[-1].score_samples(X_transform)"
   ]
  },
  {
   "cell_type": "code",
   "execution_count": null,
   "metadata": {},
   "outputs": [],
   "source": [
    "def wget_scores(apipe):\n",
    "    return get_scores(apipe, cluster[the_color], cluster[the_mag])"
   ]
  },
  {
   "cell_type": "code",
   "execution_count": null,
   "metadata": {},
   "outputs": [],
   "source": [
    "sscores = wget_scores(pipe)\n",
    "dscores = wget_scores(doublepipe)"
   ]
  },
  {
   "cell_type": "code",
   "execution_count": null,
   "metadata": {},
   "outputs": [],
   "source": [
    "colors = np.logaddexp(-sscores,dscores)\n"
   ]
  },
  {
   "cell_type": "code",
   "execution_count": null,
   "metadata": {},
   "outputs": [],
   "source": [
    "plt.scatter(cluster[the_color], cluster[the_mag], c=colors, marker='+',)\n",
    "plt.ylim(19,8)\n"
   ]
  },
  {
   "cell_type": "markdown",
   "metadata": {},
   "source": [
    "### END OF REAL WORK"
   ]
  },
  {
   "cell_type": "markdown",
   "metadata": {},
   "source": [
    "Write a title and abstract  \n",
    "NOTES FROM MEETING (05/21):  \n",
    "First, talk to Boris  \n",
    "Gaia has metadata for velocity variations (= uncertainty)  \n",
    "    - Label every star with ratio of KDEs (at loc of star) \n",
    "    - difference in log prob\n",
    "    - (dumb) cut in prob ratio \n",
    "    - get a real single star KDE\n",
    "    - do everything again and see if changes\n",
    "\n",
    "Stars that are low probability under both KDEs -> Triples?  \n",
    "Plots \n",
    "    1. colored under delta log-prob\n",
    "    2. Max of the two log probs\n",
    "LogAddExp (SoftMax)\n",
    "\n",
    "When do people use CMD?\n",
    " - Infer age, metallicity (not for us)\n",
    " - Search for structure (disrupted clusters, etc)\n",
    " - Binary fractions (double star CMD?)\n",
    " - Refine cluster membership\n",
    " \n",
    "Email Jackie at AMNH\n",
    "\n",
    "Simple use-case: \"Our method: We demonstrate this with etc\":  \n",
    "See:  \n",
    "    - Anderson, et. al (mixture of Gaussian)\n",
    "    - Boris, Hogg\n",
    "    - Widmark"
   ]
  },
  {
   "cell_type": "code",
   "execution_count": null,
   "metadata": {},
   "outputs": [],
   "source": []
  }
 ],
 "metadata": {
  "colab": {
   "collapsed_sections": [],
   "name": "test-realtime",
   "provenance": [],
   "version": "0.3.2"
  },
  "kernelspec": {
   "display_name": "Python 3",
   "language": "python",
   "name": "python3"
  },
  "language_info": {
   "codemirror_mode": {
    "name": "ipython",
    "version": 3
   },
   "file_extension": ".py",
   "mimetype": "text/x-python",
   "name": "python",
   "nbconvert_exporter": "python",
   "pygments_lexer": "ipython3",
   "version": "3.7.3"
  }
 },
 "nbformat": 4,
 "nbformat_minor": 1
}
